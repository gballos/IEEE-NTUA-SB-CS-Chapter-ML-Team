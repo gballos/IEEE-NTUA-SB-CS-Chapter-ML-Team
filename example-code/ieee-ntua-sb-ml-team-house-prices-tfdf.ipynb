{
 "cells": [
  {
   "cell_type": "code",
   "execution_count": 1,
   "id": "dfc8f775",
   "metadata": {
    "_cell_guid": "b1076dfc-b9ad-4769-8c92-a6c4dae69d19",
    "_uuid": "8f2839f25d086af736a60e9eeb907d3b93b6e0e5",
    "execution": {
     "iopub.execute_input": "2024-10-30T21:29:23.216589Z",
     "iopub.status.busy": "2024-10-30T21:29:23.215552Z",
     "iopub.status.idle": "2024-10-30T21:29:26.094404Z",
     "shell.execute_reply": "2024-10-30T21:29:26.092841Z"
    },
    "papermill": {
     "duration": 2.894098,
     "end_time": "2024-10-30T21:29:26.097012",
     "exception": false,
     "start_time": "2024-10-30T21:29:23.202914",
     "status": "completed"
    },
    "tags": []
   },
   "outputs": [
    {
     "name": "stdout",
     "output_type": "stream",
     "text": [
      "/kaggle/input/house-prices-advanced-regression-techniques/sample_submission.csv\n",
      "/kaggle/input/house-prices-advanced-regression-techniques/data_description.txt\n",
      "/kaggle/input/house-prices-advanced-regression-techniques/train.csv\n",
      "/kaggle/input/house-prices-advanced-regression-techniques/test.csv\n"
     ]
    }
   ],
   "source": [
    "import numpy as np # linear algebra\n",
    "import pandas as pd # data processing, CSV file I/O (e.g. pd.read_csv)\n",
    "\n",
    "import matplotlib.pyplot as plt\n",
    "import seaborn as sns\n",
    "\n",
    "from sklearn.metrics import mean_squared_error\n",
    "\n",
    "import os\n",
    "for dirname, _, filenames in os.walk('/kaggle/input'):\n",
    "    for filename in filenames:\n",
    "        print(os.path.join(dirname, filename))"
   ]
  },
  {
   "cell_type": "markdown",
   "id": "e3e86276",
   "metadata": {
    "papermill": {
     "duration": 0.009997,
     "end_time": "2024-10-30T21:29:26.117155",
     "exception": false,
     "start_time": "2024-10-30T21:29:26.107158",
     "status": "completed"
    },
    "tags": []
   },
   "source": [
    "# Loading Data and Taking a Quick Look:"
   ]
  },
  {
   "cell_type": "code",
   "execution_count": 2,
   "id": "46c872dd",
   "metadata": {
    "execution": {
     "iopub.execute_input": "2024-10-30T21:29:26.137241Z",
     "iopub.status.busy": "2024-10-30T21:29:26.136665Z",
     "iopub.status.idle": "2024-10-30T21:29:26.208581Z",
     "shell.execute_reply": "2024-10-30T21:29:26.207521Z"
    },
    "papermill": {
     "duration": 0.085048,
     "end_time": "2024-10-30T21:29:26.211284",
     "exception": false,
     "start_time": "2024-10-30T21:29:26.126236",
     "status": "completed"
    },
    "tags": []
   },
   "outputs": [],
   "source": [
    "train_df = pd.read_csv(\"/kaggle/input/house-prices-advanced-regression-techniques/train.csv\")\n",
    "test_df = pd.read_csv(\"/kaggle/input/house-prices-advanced-regression-techniques/test.csv\")\n"
   ]
  },
  {
   "cell_type": "markdown",
   "id": "d2aac55f",
   "metadata": {
    "papermill": {
     "duration": 0.008893,
     "end_time": "2024-10-30T21:29:26.229482",
     "exception": false,
     "start_time": "2024-10-30T21:29:26.220589",
     "status": "completed"
    },
    "tags": []
   },
   "source": [
    "**info()** method returns the total number of rows, and each attribute's type and number of non-null values."
   ]
  },
  {
   "cell_type": "code",
   "execution_count": 3,
   "id": "b77af5cc",
   "metadata": {
    "execution": {
     "iopub.execute_input": "2024-10-30T21:29:26.249519Z",
     "iopub.status.busy": "2024-10-30T21:29:26.249144Z",
     "iopub.status.idle": "2024-10-30T21:29:26.289855Z",
     "shell.execute_reply": "2024-10-30T21:29:26.288672Z"
    },
    "papermill": {
     "duration": 0.054042,
     "end_time": "2024-10-30T21:29:26.292860",
     "exception": false,
     "start_time": "2024-10-30T21:29:26.238818",
     "status": "completed"
    },
    "tags": []
   },
   "outputs": [
    {
     "name": "stdout",
     "output_type": "stream",
     "text": [
      "<class 'pandas.core.frame.DataFrame'>\n",
      "RangeIndex: 1460 entries, 0 to 1459\n",
      "Data columns (total 81 columns):\n",
      " #   Column         Non-Null Count  Dtype  \n",
      "---  ------         --------------  -----  \n",
      " 0   Id             1460 non-null   int64  \n",
      " 1   MSSubClass     1460 non-null   int64  \n",
      " 2   MSZoning       1460 non-null   object \n",
      " 3   LotFrontage    1201 non-null   float64\n",
      " 4   LotArea        1460 non-null   int64  \n",
      " 5   Street         1460 non-null   object \n",
      " 6   Alley          91 non-null     object \n",
      " 7   LotShape       1460 non-null   object \n",
      " 8   LandContour    1460 non-null   object \n",
      " 9   Utilities      1460 non-null   object \n",
      " 10  LotConfig      1460 non-null   object \n",
      " 11  LandSlope      1460 non-null   object \n",
      " 12  Neighborhood   1460 non-null   object \n",
      " 13  Condition1     1460 non-null   object \n",
      " 14  Condition2     1460 non-null   object \n",
      " 15  BldgType       1460 non-null   object \n",
      " 16  HouseStyle     1460 non-null   object \n",
      " 17  OverallQual    1460 non-null   int64  \n",
      " 18  OverallCond    1460 non-null   int64  \n",
      " 19  YearBuilt      1460 non-null   int64  \n",
      " 20  YearRemodAdd   1460 non-null   int64  \n",
      " 21  RoofStyle      1460 non-null   object \n",
      " 22  RoofMatl       1460 non-null   object \n",
      " 23  Exterior1st    1460 non-null   object \n",
      " 24  Exterior2nd    1460 non-null   object \n",
      " 25  MasVnrType     588 non-null    object \n",
      " 26  MasVnrArea     1452 non-null   float64\n",
      " 27  ExterQual      1460 non-null   object \n",
      " 28  ExterCond      1460 non-null   object \n",
      " 29  Foundation     1460 non-null   object \n",
      " 30  BsmtQual       1423 non-null   object \n",
      " 31  BsmtCond       1423 non-null   object \n",
      " 32  BsmtExposure   1422 non-null   object \n",
      " 33  BsmtFinType1   1423 non-null   object \n",
      " 34  BsmtFinSF1     1460 non-null   int64  \n",
      " 35  BsmtFinType2   1422 non-null   object \n",
      " 36  BsmtFinSF2     1460 non-null   int64  \n",
      " 37  BsmtUnfSF      1460 non-null   int64  \n",
      " 38  TotalBsmtSF    1460 non-null   int64  \n",
      " 39  Heating        1460 non-null   object \n",
      " 40  HeatingQC      1460 non-null   object \n",
      " 41  CentralAir     1460 non-null   object \n",
      " 42  Electrical     1459 non-null   object \n",
      " 43  1stFlrSF       1460 non-null   int64  \n",
      " 44  2ndFlrSF       1460 non-null   int64  \n",
      " 45  LowQualFinSF   1460 non-null   int64  \n",
      " 46  GrLivArea      1460 non-null   int64  \n",
      " 47  BsmtFullBath   1460 non-null   int64  \n",
      " 48  BsmtHalfBath   1460 non-null   int64  \n",
      " 49  FullBath       1460 non-null   int64  \n",
      " 50  HalfBath       1460 non-null   int64  \n",
      " 51  BedroomAbvGr   1460 non-null   int64  \n",
      " 52  KitchenAbvGr   1460 non-null   int64  \n",
      " 53  KitchenQual    1460 non-null   object \n",
      " 54  TotRmsAbvGrd   1460 non-null   int64  \n",
      " 55  Functional     1460 non-null   object \n",
      " 56  Fireplaces     1460 non-null   int64  \n",
      " 57  FireplaceQu    770 non-null    object \n",
      " 58  GarageType     1379 non-null   object \n",
      " 59  GarageYrBlt    1379 non-null   float64\n",
      " 60  GarageFinish   1379 non-null   object \n",
      " 61  GarageCars     1460 non-null   int64  \n",
      " 62  GarageArea     1460 non-null   int64  \n",
      " 63  GarageQual     1379 non-null   object \n",
      " 64  GarageCond     1379 non-null   object \n",
      " 65  PavedDrive     1460 non-null   object \n",
      " 66  WoodDeckSF     1460 non-null   int64  \n",
      " 67  OpenPorchSF    1460 non-null   int64  \n",
      " 68  EnclosedPorch  1460 non-null   int64  \n",
      " 69  3SsnPorch      1460 non-null   int64  \n",
      " 70  ScreenPorch    1460 non-null   int64  \n",
      " 71  PoolArea       1460 non-null   int64  \n",
      " 72  PoolQC         7 non-null      object \n",
      " 73  Fence          281 non-null    object \n",
      " 74  MiscFeature    54 non-null     object \n",
      " 75  MiscVal        1460 non-null   int64  \n",
      " 76  MoSold         1460 non-null   int64  \n",
      " 77  YrSold         1460 non-null   int64  \n",
      " 78  SaleType       1460 non-null   object \n",
      " 79  SaleCondition  1460 non-null   object \n",
      " 80  SalePrice      1460 non-null   int64  \n",
      "dtypes: float64(3), int64(35), object(43)\n",
      "memory usage: 924.0+ KB\n"
     ]
    }
   ],
   "source": [
    "train_df.info()"
   ]
  },
  {
   "cell_type": "markdown",
   "id": "1e31533a",
   "metadata": {
    "papermill": {
     "duration": 0.009033,
     "end_time": "2024-10-30T21:29:26.311422",
     "exception": false,
     "start_time": "2024-10-30T21:29:26.302389",
     "status": "completed"
    },
    "tags": []
   },
   "source": [
    "**distplot()** method returns a distribution plot for 'SalePrice'."
   ]
  },
  {
   "cell_type": "code",
   "execution_count": 4,
   "id": "12864a55",
   "metadata": {
    "execution": {
     "iopub.execute_input": "2024-10-30T21:29:26.331865Z",
     "iopub.status.busy": "2024-10-30T21:29:26.331460Z",
     "iopub.status.idle": "2024-10-30T21:29:26.853310Z",
     "shell.execute_reply": "2024-10-30T21:29:26.852115Z"
    },
    "papermill": {
     "duration": 0.535019,
     "end_time": "2024-10-30T21:29:26.855729",
     "exception": false,
     "start_time": "2024-10-30T21:29:26.320710",
     "status": "completed"
    },
    "tags": []
   },
   "outputs": [
    {
     "name": "stdout",
     "output_type": "stream",
     "text": [
      "count      1460.000000\n",
      "mean     180921.195890\n",
      "std       79442.502883\n",
      "min       34900.000000\n",
      "25%      129975.000000\n",
      "50%      163000.000000\n",
      "75%      214000.000000\n",
      "max      755000.000000\n",
      "Name: SalePrice, dtype: float64\n"
     ]
    },
    {
     "name": "stderr",
     "output_type": "stream",
     "text": [
      "/tmp/ipykernel_17/1416632486.py:6: UserWarning: \n",
      "\n",
      "`distplot` is a deprecated function and will be removed in seaborn v0.14.0.\n",
      "\n",
      "Please adapt your code to use either `displot` (a figure-level function with\n",
      "similar flexibility) or `histplot` (an axes-level function for histograms).\n",
      "\n",
      "For a guide to updating your code to use the new functions, please see\n",
      "https://gist.github.com/mwaskom/de44147ed2974457ad6372750bbe5751\n",
      "\n",
      "  sns.distplot(train_df['SalePrice'], color='b', bins = 100);\n",
      "/opt/conda/lib/python3.10/site-packages/seaborn/_oldcore.py:1119: FutureWarning: use_inf_as_na option is deprecated and will be removed in a future version. Convert inf values to NaN before operating instead.\n",
      "  with pd.option_context('mode.use_inf_as_na', True):\n"
     ]
    },
    {
     "data": {
      "image/png": "[encoded data removed]",
      "text/plain": [
       "<Figure size 900x800 with 1 Axes>"
      ]
     },
     "metadata": {},
     "output_type": "display_data"
    }
   ],
   "source": [
    "import seaborn as sns\n",
    "import matplotlib.pyplot as plt\n",
    "\n",
    "print(train_df['SalePrice'].describe())\n",
    "plt.figure(figsize=(9, 8))\n",
    "sns.distplot(train_df['SalePrice'], color='b', bins = 100);"
   ]
  },
  {
   "cell_type": "markdown",
   "id": "76dca508",
   "metadata": {
    "papermill": {
     "duration": 0.009748,
     "end_time": "2024-10-30T21:29:26.875610",
     "exception": false,
     "start_time": "2024-10-30T21:29:26.865862",
     "status": "completed"
    },
    "tags": []
   },
   "source": [
    "# Data Preparation:"
   ]
  },
  {
   "cell_type": "markdown",
   "id": "b5c0f70d",
   "metadata": {
    "papermill": {
     "duration": 0.009707,
     "end_time": "2024-10-30T21:29:26.896036",
     "exception": false,
     "start_time": "2024-10-30T21:29:26.886329",
     "status": "completed"
    },
    "tags": []
   },
   "source": [
    "**Store** 'Id':"
   ]
  },
  {
   "cell_type": "code",
   "execution_count": 5,
   "id": "22b113bc",
   "metadata": {
    "execution": {
     "iopub.execute_input": "2024-10-30T21:29:26.917982Z",
     "iopub.status.busy": "2024-10-30T21:29:26.917562Z",
     "iopub.status.idle": "2024-10-30T21:29:26.922837Z",
     "shell.execute_reply": "2024-10-30T21:29:26.921745Z"
    },
    "papermill": {
     "duration": 0.019138,
     "end_time": "2024-10-30T21:29:26.925179",
     "exception": false,
     "start_time": "2024-10-30T21:29:26.906041",
     "status": "completed"
    },
    "tags": []
   },
   "outputs": [],
   "source": [
    "test_ids = test_df[\"Id\"]"
   ]
  },
  {
   "cell_type": "markdown",
   "id": "d63b30a1",
   "metadata": {
    "papermill": {
     "duration": 0.009513,
     "end_time": "2024-10-30T21:29:26.944736",
     "exception": false,
     "start_time": "2024-10-30T21:29:26.935223",
     "status": "completed"
    },
    "tags": []
   },
   "source": [
    "**Drop** 'Id' **column** as it is not necessary for the model:"
   ]
  },
  {
   "cell_type": "code",
   "execution_count": 6,
   "id": "1f458cb2",
   "metadata": {
    "execution": {
     "iopub.execute_input": "2024-10-30T21:29:26.966236Z",
     "iopub.status.busy": "2024-10-30T21:29:26.965820Z",
     "iopub.status.idle": "2024-10-30T21:29:26.977110Z",
     "shell.execute_reply": "2024-10-30T21:29:26.976092Z"
    },
    "papermill": {
     "duration": 0.024861,
     "end_time": "2024-10-30T21:29:26.979527",
     "exception": false,
     "start_time": "2024-10-30T21:29:26.954666",
     "status": "completed"
    },
    "tags": []
   },
   "outputs": [],
   "source": [
    "train_df = train_df.drop(\"Id\", axis = 1)\n",
    "test_df = test_df.drop(\"Id\", axis = 1)"
   ]
  },
  {
   "cell_type": "markdown",
   "id": "811a4af7",
   "metadata": {
    "papermill": {
     "duration": 0.009965,
     "end_time": "2024-10-30T21:29:26.999678",
     "exception": false,
     "start_time": "2024-10-30T21:29:26.989713",
     "status": "completed"
    },
    "tags": []
   },
   "source": [
    "# Spliting the Data:"
   ]
  },
  {
   "cell_type": "markdown",
   "id": "1b80cf10",
   "metadata": {
    "papermill": {
     "duration": 0.009566,
     "end_time": "2024-10-30T21:29:27.019205",
     "exception": false,
     "start_time": "2024-10-30T21:29:27.009639",
     "status": "completed"
    },
    "tags": []
   },
   "source": [
    "**Define a 'split_dataset' function** to generate a random split of the dataset:"
   ]
  },
  {
   "cell_type": "markdown",
   "id": "90995c00",
   "metadata": {
    "papermill": {
     "duration": 0.009542,
     "end_time": "2024-10-30T21:29:27.039067",
     "exception": false,
     "start_time": "2024-10-30T21:29:27.029525",
     "status": "completed"
    },
    "tags": []
   },
   "source": [
    "**test_ratio** specifies the proportion of data to assign to the validation (test) set (for example, if test_ratio=0.10, 10% of the dataset will be used for validation, and 90% will be used for training)"
   ]
  },
  {
   "cell_type": "markdown",
   "id": "38ecceaa",
   "metadata": {
    "papermill": {
     "duration": 0.009995,
     "end_time": "2024-10-30T21:29:27.059117",
     "exception": false,
     "start_time": "2024-10-30T21:29:27.049122",
     "status": "completed"
    },
    "tags": []
   },
   "source": [
    "**np.random.rand(len(dataset))** generates an array of random numbers between 0 and 1, with each number corresponding to a row in dataset.\n",
    "\n",
    "**< test_ratio** checks if each random number is less than test_ratio and creates a boolean array, test_indices, where True indicates that the row should go into the validation set, and False indicates it should go into the training set."
   ]
  },
  {
   "cell_type": "code",
   "execution_count": 7,
   "id": "431c0311",
   "metadata": {
    "execution": {
     "iopub.execute_input": "2024-10-30T21:29:27.082077Z",
     "iopub.status.busy": "2024-10-30T21:29:27.081649Z",
     "iopub.status.idle": "2024-10-30T21:29:27.087275Z",
     "shell.execute_reply": "2024-10-30T21:29:27.086096Z"
    },
    "papermill": {
     "duration": 0.019745,
     "end_time": "2024-10-30T21:29:27.089654",
     "exception": false,
     "start_time": "2024-10-30T21:29:27.069909",
     "status": "completed"
    },
    "tags": []
   },
   "outputs": [],
   "source": [
    "def split_dataset(dataset, test_ratio=0.10):\n",
    "    test_indices = np.random.rand(len(dataset)) < test_ratio\n",
    "    return dataset[~test_indices], dataset[test_indices]\n"
   ]
  },
  {
   "cell_type": "markdown",
   "id": "2eaa8947",
   "metadata": {
    "papermill": {
     "duration": 0.009516,
     "end_time": "2024-10-30T21:29:27.109266",
     "exception": false,
     "start_time": "2024-10-30T21:29:27.099750",
     "status": "completed"
    },
    "tags": []
   },
   "source": [
    "**dataset[~test_indices]**: The *tilde ~ operator inverts the boolean array*, so this line selects the rows where test_indices is False (training set).\n",
    "\n",
    "**dataset[test_indices]**: Selects the rows where test_indices is True (validation set)."
   ]
  },
  {
   "cell_type": "markdown",
   "id": "b68075f6",
   "metadata": {
    "papermill": {
     "duration": 0.009553,
     "end_time": "2024-10-30T21:29:27.128727",
     "exception": false,
     "start_time": "2024-10-30T21:29:27.119174",
     "status": "completed"
    },
    "tags": []
   },
   "source": [
    "**Spliting** the data into a **training** and a **validation set**:"
   ]
  },
  {
   "cell_type": "code",
   "execution_count": 8,
   "id": "0326d0bd",
   "metadata": {
    "execution": {
     "iopub.execute_input": "2024-10-30T21:29:27.151621Z",
     "iopub.status.busy": "2024-10-30T21:29:27.151182Z",
     "iopub.status.idle": "2024-10-30T21:29:27.159957Z",
     "shell.execute_reply": "2024-10-30T21:29:27.158542Z"
    },
    "papermill": {
     "duration": 0.023352,
     "end_time": "2024-10-30T21:29:27.162410",
     "exception": false,
     "start_time": "2024-10-30T21:29:27.139058",
     "status": "completed"
    },
    "tags": []
   },
   "outputs": [
    {
     "name": "stdout",
     "output_type": "stream",
     "text": [
      "1318 examples in training, 142 examples in validation.\n"
     ]
    }
   ],
   "source": [
    "train_ds_pd, valid_ds_pd = split_dataset(train_df)\n",
    "print(\"{} examples in training, {} examples in validation.\".format(\n",
    "    len(train_ds_pd), len(valid_ds_pd)))"
   ]
  },
  {
   "cell_type": "markdown",
   "id": "fbf1d063",
   "metadata": {
    "papermill": {
     "duration": 0.009641,
     "end_time": "2024-10-30T21:29:27.182183",
     "exception": false,
     "start_time": "2024-10-30T21:29:27.172542",
     "status": "completed"
    },
    "tags": []
   },
   "source": [
    "# Random Forest Model:"
   ]
  },
  {
   "cell_type": "markdown",
   "id": "76f0bff6",
   "metadata": {
    "papermill": {
     "duration": 0.010036,
     "end_time": "2024-10-30T21:29:27.202336",
     "exception": false,
     "start_time": "2024-10-30T21:29:27.192300",
     "status": "completed"
    },
    "tags": []
   },
   "source": [
    "**Setting** the target label:"
   ]
  },
  {
   "cell_type": "code",
   "execution_count": 9,
   "id": "5e22b3eb",
   "metadata": {
    "execution": {
     "iopub.execute_input": "2024-10-30T21:29:27.224419Z",
     "iopub.status.busy": "2024-10-30T21:29:27.223457Z",
     "iopub.status.idle": "2024-10-30T21:29:27.228324Z",
     "shell.execute_reply": "2024-10-30T21:29:27.227305Z"
    },
    "papermill": {
     "duration": 0.018051,
     "end_time": "2024-10-30T21:29:27.230404",
     "exception": false,
     "start_time": "2024-10-30T21:29:27.212353",
     "status": "completed"
    },
    "tags": []
   },
   "outputs": [],
   "source": [
    "label = 'SalePrice'"
   ]
  },
  {
   "cell_type": "markdown",
   "id": "84ca2852",
   "metadata": {
    "papermill": {
     "duration": 0.009855,
     "end_time": "2024-10-30T21:29:27.250251",
     "exception": false,
     "start_time": "2024-10-30T21:29:27.240396",
     "status": "completed"
    },
    "tags": []
   },
   "source": [
    "**Converting** pandas dataframes **into TensorFlow datasets** for a regression task to ensure that the data is in a format that TF-DF models expect:"
   ]
  },
  {
   "cell_type": "code",
   "execution_count": 10,
   "id": "7f0a87b5",
   "metadata": {
    "execution": {
     "iopub.execute_input": "2024-10-30T21:29:27.273218Z",
     "iopub.status.busy": "2024-10-30T21:29:27.272781Z",
     "iopub.status.idle": "2024-10-30T21:29:43.065839Z",
     "shell.execute_reply": "2024-10-30T21:29:43.064547Z"
    },
    "papermill": {
     "duration": 15.807243,
     "end_time": "2024-10-30T21:29:43.068711",
     "exception": false,
     "start_time": "2024-10-30T21:29:27.261468",
     "status": "completed"
    },
    "tags": []
   },
   "outputs": [],
   "source": [
    "import tensorflow as tf\n",
    "import tensorflow_decision_forests as tfdf\n",
    "\n",
    "train_ds = tfdf.keras.pd_dataframe_to_tf_dataset(train_ds_pd, label=label, task = tfdf.keras.Task.REGRESSION)\n",
    "valid_ds = tfdf.keras.pd_dataframe_to_tf_dataset(valid_ds_pd, label=label, task = tfdf.keras.Task.REGRESSION)\n",
    "test_ds = tfdf.keras.pd_dataframe_to_tf_dataset(test_df, task = tfdf.keras.Task.REGRESSION)"
   ]
  },
  {
   "cell_type": "markdown",
   "id": "dcf9d6f5",
   "metadata": {
    "papermill": {
     "duration": 0.009795,
     "end_time": "2024-10-30T21:29:43.089219",
     "exception": false,
     "start_time": "2024-10-30T21:29:43.079424",
     "status": "completed"
    },
    "tags": []
   },
   "source": [
    "**Initializing a Random Forest model** that will perform a **regression task** using TensorFlow Decision Forests:"
   ]
  },
  {
   "cell_type": "code",
   "execution_count": 11,
   "id": "51e21ddd",
   "metadata": {
    "execution": {
     "iopub.execute_input": "2024-10-30T21:29:43.112444Z",
     "iopub.status.busy": "2024-10-30T21:29:43.111685Z",
     "iopub.status.idle": "2024-10-30T21:29:43.165723Z",
     "shell.execute_reply": "2024-10-30T21:29:43.164552Z"
    },
    "papermill": {
     "duration": 0.068333,
     "end_time": "2024-10-30T21:29:43.168510",
     "exception": false,
     "start_time": "2024-10-30T21:29:43.100177",
     "status": "completed"
    },
    "tags": []
   },
   "outputs": [
    {
     "name": "stdout",
     "output_type": "stream",
     "text": [
      "Use /tmp/tmpxmisbdw5 as temporary training directory\n"
     ]
    }
   ],
   "source": [
    "rf = tfdf.keras.RandomForestModel(task = tfdf.keras.Task.REGRESSION)"
   ]
  },
  {
   "cell_type": "markdown",
   "id": "fd8924f9",
   "metadata": {
    "papermill": {
     "duration": 0.010191,
     "end_time": "2024-10-30T21:29:43.188934",
     "exception": false,
     "start_time": "2024-10-30T21:29:43.178743",
     "status": "completed"
    },
    "tags": []
   },
   "source": [
    "**Preparing the model** to be trained and evaluated:"
   ]
  },
  {
   "cell_type": "code",
   "execution_count": 12,
   "id": "650ec198",
   "metadata": {
    "execution": {
     "iopub.execute_input": "2024-10-30T21:29:43.210973Z",
     "iopub.status.busy": "2024-10-30T21:29:43.210558Z",
     "iopub.status.idle": "2024-10-30T21:29:43.238723Z",
     "shell.execute_reply": "2024-10-30T21:29:43.237574Z"
    },
    "papermill": {
     "duration": 0.042491,
     "end_time": "2024-10-30T21:29:43.241677",
     "exception": false,
     "start_time": "2024-10-30T21:29:43.199186",
     "status": "completed"
    },
    "tags": []
   },
   "outputs": [],
   "source": [
    "rf.compile(metrics = [\"rmse\"]) "
   ]
  },
  {
   "cell_type": "markdown",
   "id": "69dadb94",
   "metadata": {
    "papermill": {
     "duration": 0.009681,
     "end_time": "2024-10-30T21:29:43.261674",
     "exception": false,
     "start_time": "2024-10-30T21:29:43.251993",
     "status": "completed"
    },
    "tags": []
   },
   "source": [
    "Note that the above step is *optional*, but you can include it if you want to specify a list of evaluation metrics for your model."
   ]
  },
  {
   "cell_type": "markdown",
   "id": "87026ac4",
   "metadata": {
    "papermill": {
     "duration": 0.009716,
     "end_time": "2024-10-30T21:29:43.281584",
     "exception": false,
     "start_time": "2024-10-30T21:29:43.271868",
     "status": "completed"
    },
    "tags": []
   },
   "source": [
    "**Fit** the model:"
   ]
  },
  {
   "cell_type": "code",
   "execution_count": 13,
   "id": "85b2630c",
   "metadata": {
    "execution": {
     "iopub.execute_input": "2024-10-30T21:29:43.303344Z",
     "iopub.status.busy": "2024-10-30T21:29:43.302915Z",
     "iopub.status.idle": "2024-10-30T21:29:59.634655Z",
     "shell.execute_reply": "2024-10-30T21:29:59.633607Z"
    },
    "papermill": {
     "duration": 16.345392,
     "end_time": "2024-10-30T21:29:59.636984",
     "exception": false,
     "start_time": "2024-10-30T21:29:43.291592",
     "status": "completed"
    },
    "tags": []
   },
   "outputs": [
    {
     "name": "stdout",
     "output_type": "stream",
     "text": [
      "Reading training dataset...\n",
      "Training dataset read in 0:00:06.606943. Found 1318 examples.\n",
      "Training model...\n"
     ]
    },
    {
     "name": "stderr",
     "output_type": "stream",
     "text": [
      "[INFO 24-10-30 21:29:52.2029 UTC kernel.cc:1233] Loading model from path /tmp/tmpxmisbdw5/model/ with prefix 84491c14a16342eb\n"
     ]
    },
    {
     "name": "stdout",
     "output_type": "stream",
     "text": [
      "Model trained in 0:00:02.803544\n",
      "Compiling model...\n"
     ]
    },
    {
     "name": "stderr",
     "output_type": "stream",
     "text": [
      "[INFO 24-10-30 21:29:52.6701 UTC decision_forest.cc:734] Model loaded with 300 root(s), 124940 node(s), and 73 input feature(s).\n",
      "[INFO 24-10-30 21:29:52.6702 UTC abstract_model.cc:1362] Engine \"RandomForestOptPred\" built\n",
      "[INFO 24-10-30 21:29:52.6703 UTC kernel.cc:1061] Use fast generic engine\n"
     ]
    },
    {
     "name": "stdout",
     "output_type": "stream",
     "text": [
      "Model compiled.\n"
     ]
    },
    {
     "data": {
      "text/plain": [
       "<tf_keras.src.callbacks.History at 0x79e006dd9de0>"
      ]
     },
     "execution_count": 13,
     "metadata": {},
     "output_type": "execute_result"
    }
   ],
   "source": [
    "rf.fit(x=train_ds)"
   ]
  },
  {
   "cell_type": "markdown",
   "id": "b33c2047",
   "metadata": {
    "papermill": {
     "duration": 0.010545,
     "end_time": "2024-10-30T21:29:59.658546",
     "exception": false,
     "start_time": "2024-10-30T21:29:59.648001",
     "status": "completed"
    },
    "tags": []
   },
   "source": [
    "**Visualize** *first* decision tree (for depth *3*):"
   ]
  },
  {
   "cell_type": "code",
   "execution_count": 14,
   "id": "dd4f754b",
   "metadata": {
    "execution": {
     "iopub.execute_input": "2024-10-30T21:29:59.684443Z",
     "iopub.status.busy": "2024-10-30T21:29:59.683413Z",
     "iopub.status.idle": "2024-10-30T21:29:59.709826Z",
     "shell.execute_reply": "2024-10-30T21:29:59.708800Z"
    },
    "papermill": {
     "duration": 0.041316,
     "end_time": "2024-10-30T21:29:59.712172",
     "exception": false,
     "start_time": "2024-10-30T21:29:59.670856",
     "status": "completed"
    },
    "tags": []
   },
   "outputs": [
    {
     "data": {
      "text/html": [
       "\n",
       "<script src=\"https://d3js.org/d3.v6.min.js\"></script>\n",
       "<div id=\"tree_plot_8c44a728c8fd47fca97a0a91a64d405a\"></div>\n",
       "<script>\n",
       "/*\n",
       " * Copyright 2021 Google LLC.\n",
       " * Licensed under the Apache License, Version 2.0 (the \"License\");\n",
       " * you may not use this file except in compliance with the License.\n",
       " * You may obtain a copy of the License at\n",
       " *\n",
       " *     https://www.apache.org/licenses/LICENSE-2.0\n",
       " *\n",
       " * Unless required by applicable law or agreed to in writing, software\n",
       " * distributed under the License is distributed on an \"AS IS\" BASIS,\n",
       " * WITHOUT WARRANTIES OR CONDITIONS OF ANY KIND, either express or implied.\n",
       " * See the License for the specific language governing permissions and\n",
       " * limitations under the License.\n",
       " */\n",
       "\n",
       "/**\n",
       " *  Plotting of decision trees generated by TF-DF.\n",
       " *\n",
       " *  A tree is a recursive structure of node objects.\n",
       " *  A node contains one or more of the following components:\n",
       " *\n",
       " *    - A value: Representing the output of the node. If the node is not a leaf,\n",
       " *      the value is only present for analysis i.e. it is not used for\n",
       " *      predictions.\n",
       " *\n",
       " *    - A condition : For non-leaf nodes, the condition (also known as split)\n",
       " *      defines a binary test to branch to the positive or negative child.\n",
       " *\n",
       " *    - An explanation: Generally a plot showing the relation between the label\n",
       " *      and the condition to give insights about the effect of the condition.\n",
       " *\n",
       " *    - Two children : For non-leaf nodes, the children nodes. The first\n",
       " *      children (i.e. \"node.children[0]\") is the negative children (drawn in\n",
       " *      red). The second children is the positive one (drawn in green).\n",
       " *\n",
       " */\n",
       "\n",
       "/**\n",
       " * Plots a single decision tree into a DOM element.\n",
       " * @param {!options} options Dictionary of configurations.\n",
       " * @param {!tree} raw_tree Recursive tree structure.\n",
       " * @param {string} canvas_id Id of the output dom element.\n",
       " */\n",
       "function display_tree(options, raw_tree, canvas_id) {\n",
       "  console.log(options);\n",
       "\n",
       "  // Determine the node placement.\n",
       "  const tree_struct = d3.tree().nodeSize(\n",
       "      [options.node_y_offset, options.node_x_offset])(d3.hierarchy(raw_tree));\n",
       "\n",
       "  // Boundaries of the node placement.\n",
       "  let x_min = Infinity;\n",
       "  let x_max = -x_min;\n",
       "  let y_min = Infinity;\n",
       "  let y_max = -x_min;\n",
       "\n",
       "  tree_struct.each(d => {\n",
       "    if (d.x > x_max) x_max = d.x;\n",
       "    if (d.x < x_min) x_min = d.x;\n",
       "    if (d.y > y_max) y_max = d.y;\n",
       "    if (d.y < y_min) y_min = d.y;\n",
       "  });\n",
       "\n",
       "  // Size of the plot.\n",
       "  const width = y_max - y_min + options.node_x_size + options.margin * 2;\n",
       "  const height = x_max - x_min + options.node_y_size + options.margin * 2 +\n",
       "      options.node_y_offset - options.node_y_size;\n",
       "\n",
       "  const plot = d3.select(canvas_id);\n",
       "\n",
       "  // Tool tip\n",
       "  options.tooltip = plot.append('div')\n",
       "                        .attr('width', 100)\n",
       "                        .attr('height', 100)\n",
       "                        .style('padding', '4px')\n",
       "                        .style('background', '#fff')\n",
       "                        .style('box-shadow', '4px 4px 0px rgba(0,0,0,0.1)')\n",
       "                        .style('border', '1px solid black')\n",
       "                        .style('font-family', 'sans-serif')\n",
       "                        .style('font-size', options.font_size)\n",
       "                        .style('position', 'absolute')\n",
       "                        .style('z-index', '10')\n",
       "                        .attr('pointer-events', 'none')\n",
       "                        .style('display', 'none');\n",
       "\n",
       "  // Create canvas\n",
       "  const svg = plot.append('svg').attr('width', width).attr('height', height);\n",
       "  const graph =\n",
       "      svg.style('overflow', 'visible')\n",
       "          .append('g')\n",
       "          .attr('font-family', 'sans-serif')\n",
       "          .attr('font-size', options.font_size)\n",
       "          .attr(\n",
       "              'transform',\n",
       "              () => `translate(${options.margin},${\n",
       "                  - x_min + options.node_y_offset / 2 + options.margin})`);\n",
       "\n",
       "  // Plot bounding box.\n",
       "  if (options.show_plot_bounding_box) {\n",
       "    svg.append('rect')\n",
       "        .attr('width', width)\n",
       "        .attr('height', height)\n",
       "        .attr('fill', 'none')\n",
       "        .attr('stroke-width', 1.0)\n",
       "        .attr('stroke', 'black');\n",
       "  }\n",
       "\n",
       "  // Draw the edges.\n",
       "  display_edges(options, graph, tree_struct);\n",
       "\n",
       "  // Draw the nodes.\n",
       "  display_nodes(options, graph, tree_struct);\n",
       "}\n",
       "\n",
       "/**\n",
       " * Draw the nodes of the tree.\n",
       " * @param {!options} options Dictionary of configurations.\n",
       " * @param {!graph} graph D3 search handle containing the graph.\n",
       " * @param {!tree_struct} tree_struct Structure of the tree (node placement,\n",
       " *     data, etc.).\n",
       " */\n",
       "function display_nodes(options, graph, tree_struct) {\n",
       "  const nodes = graph.append('g')\n",
       "                    .selectAll('g')\n",
       "                    .data(tree_struct.descendants())\n",
       "                    .join('g')\n",
       "                    .attr('transform', d => `translate(${d.y},${d.x})`);\n",
       "\n",
       "  nodes.append('rect')\n",
       "      .attr('x', 0.5)\n",
       "      .attr('y', 0.5)\n",
       "      .attr('width', options.node_x_size)\n",
       "      .attr('height', options.node_y_size)\n",
       "      .attr('stroke', 'lightgrey')\n",
       "      .attr('stroke-width', 1)\n",
       "      .attr('fill', 'white')\n",
       "      .attr('y', -options.node_y_size / 2);\n",
       "\n",
       "  // Brackets on the right of condition nodes without children.\n",
       "  non_leaf_node_without_children =\n",
       "      nodes.filter(node => node.data.condition != null && node.children == null)\n",
       "          .append('g')\n",
       "          .attr('transform', `translate(${options.node_x_size},0)`);\n",
       "\n",
       "  non_leaf_node_without_children.append('path')\n",
       "      .attr('d', 'M0,0 C 10,0 0,10 10,10')\n",
       "      .attr('fill', 'none')\n",
       "      .attr('stroke-width', 1.0)\n",
       "      .attr('stroke', '#F00');\n",
       "\n",
       "  non_leaf_node_without_children.append('path')\n",
       "      .attr('d', 'M0,0 C 10,0 0,-10 10,-10')\n",
       "      .attr('fill', 'none')\n",
       "      .attr('stroke-width', 1.0)\n",
       "      .attr('stroke', '#0F0');\n",
       "\n",
       "  const node_content = nodes.append('g').attr(\n",
       "      'transform',\n",
       "      `translate(0,${options.node_padding - options.node_y_size / 2})`);\n",
       "\n",
       "  node_content.append(node => create_node_element(options, node));\n",
       "}\n",
       "\n",
       "/**\n",
       " * Creates the D3 content for a single node.\n",
       " * @param {!options} options Dictionary of configurations.\n",
       " * @param {!node} node Node to draw.\n",
       " * @return {!d3} D3 content.\n",
       " */\n",
       "function create_node_element(options, node) {\n",
       "  // Output accumulator.\n",
       "  let output = {\n",
       "    // Content to draw.\n",
       "    content: d3.create('svg:g'),\n",
       "    // Vertical offset to the next element to draw.\n",
       "    vertical_offset: 0\n",
       "  };\n",
       "\n",
       "  // Conditions.\n",
       "  if (node.data.condition != null) {\n",
       "    display_condition(options, node.data.condition, output);\n",
       "  }\n",
       "\n",
       "  // Values.\n",
       "  if (node.data.value != null) {\n",
       "    display_value(options, node.data.value, output);\n",
       "  }\n",
       "\n",
       "  // Explanations.\n",
       "  if (node.data.explanation != null) {\n",
       "    display_explanation(options, node.data.explanation, output);\n",
       "  }\n",
       "\n",
       "  return output.content.node();\n",
       "}\n",
       "\n",
       "\n",
       "/**\n",
       " * Adds a single line of text inside of a node.\n",
       " * @param {!options} options Dictionary of configurations.\n",
       " * @param {string} text Text to display.\n",
       " * @param {!output} output Output display accumulator.\n",
       " */\n",
       "function display_node_text(options, text, output) {\n",
       "  output.content.append('text')\n",
       "      .attr('x', options.node_padding)\n",
       "      .attr('y', output.vertical_offset)\n",
       "      .attr('alignment-baseline', 'hanging')\n",
       "      .text(text);\n",
       "  output.vertical_offset += 10;\n",
       "}\n",
       "\n",
       "/**\n",
       " * Adds a single line of text inside of a node with a tooltip.\n",
       " * @param {!options} options Dictionary of configurations.\n",
       " * @param {string} text Text to display.\n",
       " * @param {string} tooltip Text in the Tooltip.\n",
       " * @param {!output} output Output display accumulator.\n",
       " */\n",
       "function display_node_text_with_tooltip(options, text, tooltip, output) {\n",
       "  const item = output.content.append('text')\n",
       "                   .attr('x', options.node_padding)\n",
       "                   .attr('alignment-baseline', 'hanging')\n",
       "                   .text(text);\n",
       "\n",
       "  add_tooltip(options, item, () => tooltip);\n",
       "  output.vertical_offset += 10;\n",
       "}\n",
       "\n",
       "/**\n",
       " * Adds a tooltip to a dom element.\n",
       " * @param {!options} options Dictionary of configurations.\n",
       " * @param {!dom} target Dom element to equip with a tooltip.\n",
       " * @param {!func} get_content Generates the html content of the tooltip.\n",
       " */\n",
       "function add_tooltip(options, target, get_content) {\n",
       "  function show(d) {\n",
       "    options.tooltip.style('display', 'block');\n",
       "    options.tooltip.html(get_content());\n",
       "  }\n",
       "\n",
       "  function hide(d) {\n",
       "    options.tooltip.style('display', 'none');\n",
       "  }\n",
       "\n",
       "  function move(d) {\n",
       "    options.tooltip.style('display', 'block');\n",
       "    options.tooltip.style('left', (d.pageX + 5) + 'px');\n",
       "    options.tooltip.style('top', d.pageY + 'px');\n",
       "  }\n",
       "\n",
       "  target.on('mouseover', show);\n",
       "  target.on('mouseout', hide);\n",
       "  target.on('mousemove', move);\n",
       "}\n",
       "\n",
       "/**\n",
       " * Adds a condition inside of a node.\n",
       " * @param {!options} options Dictionary of configurations.\n",
       " * @param {!condition} condition Condition to display.\n",
       " * @param {!output} output Output display accumulator.\n",
       " */\n",
       "function display_condition(options, condition, output) {\n",
       "  threshold_format = d3.format('r');\n",
       "\n",
       "  if (condition.type === 'IS_MISSING') {\n",
       "    display_node_text(options, `${condition.attribute} is missing`, output);\n",
       "    return;\n",
       "  }\n",
       "\n",
       "  if (condition.type === 'IS_TRUE') {\n",
       "    display_node_text(options, `${condition.attribute} is true`, output);\n",
       "    return;\n",
       "  }\n",
       "\n",
       "  if (condition.type === 'NUMERICAL_IS_HIGHER_THAN') {\n",
       "    format = d3.format('r');\n",
       "    display_node_text(\n",
       "        options,\n",
       "        `${condition.attribute} >= ${threshold_format(condition.threshold)}`,\n",
       "        output);\n",
       "    return;\n",
       "  }\n",
       "\n",
       "  if (condition.type === 'CATEGORICAL_IS_IN') {\n",
       "    display_node_text_with_tooltip(\n",
       "        options, `${condition.attribute} in [...]`,\n",
       "        `${condition.attribute} in [${condition.mask}]`, output);\n",
       "    return;\n",
       "  }\n",
       "\n",
       "  if (condition.type === 'CATEGORICAL_SET_CONTAINS') {\n",
       "    display_node_text_with_tooltip(\n",
       "        options, `${condition.attribute} intersect [...]`,\n",
       "        `${condition.attribute} intersect [${condition.mask}]`, output);\n",
       "    return;\n",
       "  }\n",
       "\n",
       "  if (condition.type === 'NUMERICAL_SPARSE_OBLIQUE') {\n",
       "    display_node_text_with_tooltip(\n",
       "        options, `Sparse oblique split...`,\n",
       "        `[${condition.attributes}]*[${condition.weights}]>=${\n",
       "            threshold_format(condition.threshold)}`,\n",
       "        output);\n",
       "    return;\n",
       "  }\n",
       "\n",
       "  display_node_text(\n",
       "      options, `Non supported condition ${condition.type}`, output);\n",
       "}\n",
       "\n",
       "/**\n",
       " * Adds a value inside of a node.\n",
       " * @param {!options} options Dictionary of configurations.\n",
       " * @param {!value} value Value to display.\n",
       " * @param {!output} output Output display accumulator.\n",
       " */\n",
       "function display_value(options, value, output) {\n",
       "  if (value.type === 'PROBABILITY') {\n",
       "    const left_margin = 0;\n",
       "    const right_margin = 50;\n",
       "    const plot_width = options.node_x_size - options.node_padding * 2 -\n",
       "        left_margin - right_margin;\n",
       "\n",
       "    let cusum = Array.from(d3.cumsum(value.distribution));\n",
       "    cusum.unshift(0);\n",
       "    const distribution_plot = output.content.append('g').attr(\n",
       "        'transform', `translate(0,${output.vertical_offset + 0.5})`);\n",
       "\n",
       "    distribution_plot.selectAll('rect')\n",
       "        .data(value.distribution)\n",
       "        .join('rect')\n",
       "        .attr('height', 10)\n",
       "        .attr(\n",
       "            'x',\n",
       "            (d, i) =>\n",
       "                (cusum[i] * plot_width + left_margin + options.node_padding))\n",
       "        .attr('width', (d, i) => d * plot_width)\n",
       "        .style('fill', (d, i) => d3.schemeSet1[i]);\n",
       "\n",
       "    const num_examples =\n",
       "        output.content.append('g')\n",
       "            .attr('transform', `translate(0,${output.vertical_offset})`)\n",
       "            .append('text')\n",
       "            .attr('x', options.node_x_size - options.node_padding)\n",
       "            .attr('alignment-baseline', 'hanging')\n",
       "            .attr('text-anchor', 'end')\n",
       "            .text(`(${value.num_examples})`);\n",
       "\n",
       "    const distribution_details = d3.create('ul');\n",
       "    distribution_details.selectAll('li')\n",
       "        .data(value.distribution)\n",
       "        .join('li')\n",
       "        .append('span')\n",
       "        .text(\n",
       "            (d, i) =>\n",
       "                'class ' + i + ': ' + d3.format('.3%')(value.distribution[i]));\n",
       "\n",
       "    add_tooltip(options, distribution_plot, () => distribution_details.html());\n",
       "    add_tooltip(options, num_examples, () => 'Number of examples');\n",
       "\n",
       "    output.vertical_offset += 10;\n",
       "    return;\n",
       "  }\n",
       "\n",
       "  if (value.type === 'REGRESSION') {\n",
       "    display_node_text(\n",
       "        options,\n",
       "        'value: ' + d3.format('r')(value.value) + ` (` +\n",
       "            d3.format('.6')(value.num_examples) + `)`,\n",
       "        output);\n",
       "    return;\n",
       "  }\n",
       "\n",
       "  if (value.type === 'UPLIFT') {\n",
       "    display_node_text(\n",
       "        options,\n",
       "        'effect: ' + d3.format('r')(value.treatment_effect) + ` (` +\n",
       "            d3.format('.6')(value.num_examples) + `)`,\n",
       "        output);\n",
       "    return;\n",
       "  }\n",
       "\n",
       "  display_node_text(options, `Non supported value ${value.type}`, output);\n",
       "}\n",
       "\n",
       "/**\n",
       " * Adds an explanation inside of a node.\n",
       " * @param {!options} options Dictionary of configurations.\n",
       " * @param {!explanation} explanation Explanation to display.\n",
       " * @param {!output} output Output display accumulator.\n",
       " */\n",
       "function display_explanation(options, explanation, output) {\n",
       "  // Margin before the explanation.\n",
       "  output.vertical_offset += 10;\n",
       "\n",
       "  display_node_text(\n",
       "      options, `Non supported explanation ${explanation.type}`, output);\n",
       "}\n",
       "\n",
       "\n",
       "/**\n",
       " * Draw the edges of the tree.\n",
       " * @param {!options} options Dictionary of configurations.\n",
       " * @param {!graph} graph D3 search handle containing the graph.\n",
       " * @param {!tree_struct} tree_struct Structure of the tree (node placement,\n",
       " *     data, etc.).\n",
       " */\n",
       "function display_edges(options, graph, tree_struct) {\n",
       "  // Draw an edge between a parent and a child node with a bezier.\n",
       "  function draw_single_edge(d) {\n",
       "    return 'M' + (d.source.y + options.node_x_size) + ',' + d.source.x + ' C' +\n",
       "        (d.source.y + options.node_x_size + options.edge_rounding) + ',' +\n",
       "        d.source.x + ' ' + (d.target.y - options.edge_rounding) + ',' +\n",
       "        d.target.x + ' ' + d.target.y + ',' + d.target.x;\n",
       "  }\n",
       "\n",
       "  graph.append('g')\n",
       "      .attr('fill', 'none')\n",
       "      .attr('stroke-width', 1.2)\n",
       "      .selectAll('path')\n",
       "      .data(tree_struct.links())\n",
       "      .join('path')\n",
       "      .attr('d', draw_single_edge)\n",
       "      .attr(\n",
       "          'stroke', d => (d.target === d.source.children[0]) ? '#0F0' : '#F00');\n",
       "}\n",
       "\n",
       "display_tree({\"margin\": 10, \"node_x_size\": 160, \"node_y_size\": 28, \"node_x_offset\": 180, \"node_y_offset\": 33, \"font_size\": 10, \"edge_rounding\": 20, \"node_padding\": 2, \"show_plot_bounding_box\": false}, {\"value\": {\"type\": \"REGRESSION\", \"value\": 178844.125, \"num_examples\": 1318.0, \"standard_deviation\": 73695.88919448393}, \"condition\": {\"type\": \"NUMERICAL_IS_HIGHER_THAN\", \"attribute\": \"GarageCars\", \"threshold\": 2.5}, \"children\": [{\"value\": {\"type\": \"REGRESSION\", \"value\": 298159.375, \"num_examples\": 148.0, \"standard_deviation\": 93156.07192374654}, \"condition\": {\"type\": \"NUMERICAL_IS_HIGHER_THAN\", \"attribute\": \"LotArea\", \"threshold\": 12016.5}, \"children\": [{\"value\": {\"type\": \"REGRESSION\", \"value\": 346041.71875, \"num_examples\": 69.0, \"standard_deviation\": 103755.8351095412}, \"condition\": {\"type\": \"CATEGORICAL_IS_IN\", \"attribute\": \"Neighborhood\", \"mask\": [\"OldTown\", \"Somerst\", \"NridgHt\", \"SawyerW\", \"NoRidge\", \"StoneBr\", \"Veenker\"]}, \"children\": [{\"value\": {\"type\": \"REGRESSION\", \"value\": 382962.5625, \"num_examples\": 50.0, \"standard_deviation\": 89845.8263391595}, \"condition\": {\"type\": \"NUMERICAL_IS_HIGHER_THAN\", \"attribute\": \"TotRmsAbvGrd\", \"threshold\": 9.5}}, {\"value\": {\"type\": \"REGRESSION\", \"value\": 248881.578125, \"num_examples\": 19.0, \"standard_deviation\": 69460.72158104576}, \"condition\": {\"type\": \"NUMERICAL_IS_HIGHER_THAN\", \"attribute\": \"LotFrontage\", \"threshold\": 102.0}}]}, {\"value\": {\"type\": \"REGRESSION\", \"value\": 256338.09375, \"num_examples\": 79.0, \"standard_deviation\": 55709.24231063635}, \"condition\": {\"type\": \"CATEGORICAL_IS_IN\", \"attribute\": \"Neighborhood\", \"mask\": [\"CollgCr\", \"Somerst\", \"NridgHt\", \"SawyerW\", \"NoRidge\", \"Timber\", \"StoneBr\", \"Blmngtn\"]}, \"children\": [{\"value\": {\"type\": \"REGRESSION\", \"value\": 269805.84375, \"num_examples\": 70.0, \"standard_deviation\": 42170.89056388327}, \"condition\": {\"type\": \"NUMERICAL_IS_HIGHER_THAN\", \"attribute\": \"GrLivArea\", \"threshold\": 1622.5}}, {\"value\": {\"type\": \"REGRESSION\", \"value\": 151588.890625, \"num_examples\": 9.0, \"standard_deviation\": 32046.780099807693}}]}]}, {\"value\": {\"type\": \"REGRESSION\", \"value\": 163751.265625, \"num_examples\": 1170.0, \"standard_deviation\": 54696.91149215645}, \"condition\": {\"type\": \"CATEGORICAL_IS_IN\", \"attribute\": \"ExterQual\", \"mask\": [\"Gd\", \"Ex\"]}, \"children\": [{\"value\": {\"type\": \"REGRESSION\", \"value\": 210621.703125, \"num_examples\": 373.0, \"standard_deviation\": 50314.538327977796}, \"condition\": {\"type\": \"NUMERICAL_IS_HIGHER_THAN\", \"attribute\": \"GrLivArea\", \"threshold\": 1923.5}, \"children\": [{\"value\": {\"type\": \"REGRESSION\", \"value\": 269305.15625, \"num_examples\": 77.0, \"standard_deviation\": 44711.527702832565}, \"condition\": {\"type\": \"NUMERICAL_IS_HIGHER_THAN\", \"attribute\": \"WoodDeckSF\", \"threshold\": 251.0}}, {\"value\": {\"type\": \"REGRESSION\", \"value\": 195356.0625, \"num_examples\": 296.0, \"standard_deviation\": 39257.83578035846}, \"condition\": {\"type\": \"CATEGORICAL_IS_IN\", \"attribute\": \"Neighborhood\", \"mask\": [\"CollgCr\", \"Somerst\", \"NridgHt\", \"Crawfor\", \"Mitchel\", \"NoRidge\", \"Timber\", \"ClearCr\", \"StoneBr\", \"Blmngtn\", \"Veenker\"]}}]}, {\"value\": {\"type\": \"REGRESSION\", \"value\": 141815.65625, \"num_examples\": 797.0, \"standard_deviation\": 41204.684015863306}, \"condition\": {\"type\": \"CATEGORICAL_IS_IN\", \"attribute\": \"Neighborhood\", \"mask\": [\"Somerst\", \"Gilbert\", \"NWAmes\", \"Crawfor\", \"Timber\", \"ClearCr\"]}, \"children\": [{\"value\": {\"type\": \"REGRESSION\", \"value\": 184139.921875, \"num_examples\": 146.0, \"standard_deviation\": 37315.98673226449}, \"condition\": {\"type\": \"NUMERICAL_IS_HIGHER_THAN\", \"attribute\": \"GrLivArea\", \"threshold\": 1506.0}}, {\"value\": {\"type\": \"REGRESSION\", \"value\": 132323.578125, \"num_examples\": 651.0, \"standard_deviation\": 35699.58838845691}, \"condition\": {\"type\": \"NUMERICAL_IS_HIGHER_THAN\", \"attribute\": \"OverallQual\", \"threshold\": 4.5}}]}]}]}, \"#tree_plot_8c44a728c8fd47fca97a0a91a64d405a\")\n",
       "</script>\n"
      ],
      "text/plain": [
       "<IPython.core.display.HTML object>"
      ]
     },
     "execution_count": 14,
     "metadata": {},
     "output_type": "execute_result"
    }
   ],
   "source": [
    "tfdf.model_plotter.plot_model_in_colab(rf, tree_idx=0, max_depth=3)"
   ]
  },
  {
   "cell_type": "markdown",
   "id": "f6e24f09",
   "metadata": {
    "papermill": {
     "duration": 0.016064,
     "end_time": "2024-10-30T21:29:59.740747",
     "exception": false,
     "start_time": "2024-10-30T21:29:59.724683",
     "status": "completed"
    },
    "tags": []
   },
   "source": [
    "Note you can \"play\" with the parameters 'tree_idx' and 'max_depth' to visualize different trees (and their stracture for different depths)."
   ]
  },
  {
   "cell_type": "markdown",
   "id": "82e82c05",
   "metadata": {
    "papermill": {
     "duration": 0.016491,
     "end_time": "2024-10-30T21:29:59.772215",
     "exception": false,
     "start_time": "2024-10-30T21:29:59.755724",
     "status": "completed"
    },
    "tags": []
   },
   "source": [
    "# Evaluate Model:"
   ]
  },
  {
   "cell_type": "markdown",
   "id": "530cb13c",
   "metadata": {
    "papermill": {
     "duration": 0.013831,
     "end_time": "2024-10-30T21:29:59.799992",
     "exception": false,
     "start_time": "2024-10-30T21:29:59.786161",
     "status": "completed"
    },
    "tags": []
   },
   "source": [
    "Make **predictions** on the **validation set**:"
   ]
  },
  {
   "cell_type": "code",
   "execution_count": 15,
   "id": "1a109d25",
   "metadata": {
    "execution": {
     "iopub.execute_input": "2024-10-30T21:29:59.827653Z",
     "iopub.status.busy": "2024-10-30T21:29:59.827229Z",
     "iopub.status.idle": "2024-10-30T21:30:00.067809Z",
     "shell.execute_reply": "2024-10-30T21:30:00.065666Z"
    },
    "papermill": {
     "duration": 0.256665,
     "end_time": "2024-10-30T21:30:00.070985",
     "exception": false,
     "start_time": "2024-10-30T21:29:59.814320",
     "status": "completed"
    },
    "tags": []
   },
   "outputs": [
    {
     "name": "stdout",
     "output_type": "stream",
     "text": [
      "1/1 [==============================] - 0s 224ms/step\n"
     ]
    }
   ],
   "source": [
    "val_pred = rf.predict(valid_ds).squeeze()"
   ]
  },
  {
   "cell_type": "markdown",
   "id": "d47b33fa",
   "metadata": {
    "papermill": {
     "duration": 0.015566,
     "end_time": "2024-10-30T21:30:00.099809",
     "exception": false,
     "start_time": "2024-10-30T21:30:00.084243",
     "status": "completed"
    },
    "tags": []
   },
   "source": [
    "**squeeze()** method removes single-dimensional entries from the shape of the predictions array (for example, turning something like [100, 1] into [100]) \n",
    "\n",
    "Note this is particularly useful for regression predictions, where each prediction is a single value per sample."
   ]
  },
  {
   "cell_type": "markdown",
   "id": "2bad78f6",
   "metadata": {
    "papermill": {
     "duration": 0.013618,
     "end_time": "2024-10-30T21:30:00.127883",
     "exception": false,
     "start_time": "2024-10-30T21:30:00.114265",
     "status": "completed"
    },
    "tags": []
   },
   "source": [
    "**Extracting the true values of SalePrice** from the validation dataframe:"
   ]
  },
  {
   "cell_type": "code",
   "execution_count": 16,
   "id": "84c4b6e3",
   "metadata": {
    "execution": {
     "iopub.execute_input": "2024-10-30T21:30:00.157996Z",
     "iopub.status.busy": "2024-10-30T21:30:00.157516Z",
     "iopub.status.idle": "2024-10-30T21:30:00.163716Z",
     "shell.execute_reply": "2024-10-30T21:30:00.162488Z"
    },
    "papermill": {
     "duration": 0.023998,
     "end_time": "2024-10-30T21:30:00.166949",
     "exception": false,
     "start_time": "2024-10-30T21:30:00.142951",
     "status": "completed"
    },
    "tags": []
   },
   "outputs": [],
   "source": [
    "y_val = valid_ds_pd['SalePrice']"
   ]
  },
  {
   "cell_type": "markdown",
   "id": "c29b0ed0",
   "metadata": {
    "papermill": {
     "duration": 0.011903,
     "end_time": "2024-10-30T21:30:00.191647",
     "exception": false,
     "start_time": "2024-10-30T21:30:00.179744",
     "status": "completed"
    },
    "tags": []
   },
   "source": [
    "**Converting** a **NumPy array** (val_pred) to a **Pandas Series**:"
   ]
  },
  {
   "cell_type": "code",
   "execution_count": 17,
   "id": "760272a5",
   "metadata": {
    "execution": {
     "iopub.execute_input": "2024-10-30T21:30:00.221375Z",
     "iopub.status.busy": "2024-10-30T21:30:00.220925Z",
     "iopub.status.idle": "2024-10-30T21:30:00.227233Z",
     "shell.execute_reply": "2024-10-30T21:30:00.225912Z"
    },
    "papermill": {
     "duration": 0.023275,
     "end_time": "2024-10-30T21:30:00.229830",
     "exception": false,
     "start_time": "2024-10-30T21:30:00.206555",
     "status": "completed"
    },
    "tags": []
   },
   "outputs": [],
   "source": [
    "val_pred = pd.Series(val_pred)"
   ]
  },
  {
   "cell_type": "markdown",
   "id": "7ff98597",
   "metadata": {
    "papermill": {
     "duration": 0.012993,
     "end_time": "2024-10-30T21:30:00.254649",
     "exception": false,
     "start_time": "2024-10-30T21:30:00.241656",
     "status": "completed"
    },
    "tags": []
   },
   "source": [
    "**Calculate RMSE:**"
   ]
  },
  {
   "cell_type": "code",
   "execution_count": 18,
   "id": "659fbdc3",
   "metadata": {
    "execution": {
     "iopub.execute_input": "2024-10-30T21:30:00.284152Z",
     "iopub.status.busy": "2024-10-30T21:30:00.283547Z",
     "iopub.status.idle": "2024-10-30T21:30:00.294356Z",
     "shell.execute_reply": "2024-10-30T21:30:00.293091Z"
    },
    "papermill": {
     "duration": 0.029222,
     "end_time": "2024-10-30T21:30:00.297937",
     "exception": false,
     "start_time": "2024-10-30T21:30:00.268715",
     "status": "completed"
    },
    "tags": []
   },
   "outputs": [
    {
     "name": "stdout",
     "output_type": "stream",
     "text": [
      "Validation Performance: 0.12752503369782262\n"
     ]
    }
   ],
   "source": [
    "from sklearn.metrics import mean_squared_error\n",
    "\n",
    "rmse = np.sqrt(mean_squared_error(np.log(y_val), np.log(val_pred)))\n",
    "print(f\"Validation Performance: {rmse}\")"
   ]
  },
  {
   "cell_type": "markdown",
   "id": "32b524af",
   "metadata": {
    "papermill": {
     "duration": 0.012122,
     "end_time": "2024-10-30T21:30:00.322612",
     "exception": false,
     "start_time": "2024-10-30T21:30:00.310490",
     "status": "completed"
    },
    "tags": []
   },
   "source": [
    "# Predictions:"
   ]
  },
  {
   "cell_type": "code",
   "execution_count": 19,
   "id": "6e6f1208",
   "metadata": {
    "execution": {
     "iopub.execute_input": "2024-10-30T21:30:00.349589Z",
     "iopub.status.busy": "2024-10-30T21:30:00.348734Z",
     "iopub.status.idle": "2024-10-30T21:30:01.248267Z",
     "shell.execute_reply": "2024-10-30T21:30:01.247046Z"
    },
    "papermill": {
     "duration": 0.915836,
     "end_time": "2024-10-30T21:30:01.250889",
     "exception": false,
     "start_time": "2024-10-30T21:30:00.335053",
     "status": "completed"
    },
    "tags": []
   },
   "outputs": [
    {
     "name": "stdout",
     "output_type": "stream",
     "text": [
      "2/2 [==============================] - 1s 24ms/step\n"
     ]
    }
   ],
   "source": [
    "predictions = rf.predict(test_ds)"
   ]
  },
  {
   "cell_type": "markdown",
   "id": "46aacf11",
   "metadata": {
    "papermill": {
     "duration": 0.012056,
     "end_time": "2024-10-30T21:30:01.275262",
     "exception": false,
     "start_time": "2024-10-30T21:30:01.263206",
     "status": "completed"
    },
    "tags": []
   },
   "source": [
    "# Submission:"
   ]
  },
  {
   "cell_type": "code",
   "execution_count": 20,
   "id": "cd643681",
   "metadata": {
    "execution": {
     "iopub.execute_input": "2024-10-30T21:30:01.302459Z",
     "iopub.status.busy": "2024-10-30T21:30:01.302024Z",
     "iopub.status.idle": "2024-10-30T21:30:01.307898Z",
     "shell.execute_reply": "2024-10-30T21:30:01.306813Z"
    },
    "papermill": {
     "duration": 0.022986,
     "end_time": "2024-10-30T21:30:01.310242",
     "exception": false,
     "start_time": "2024-10-30T21:30:01.287256",
     "status": "completed"
    },
    "tags": []
   },
   "outputs": [],
   "source": [
    "submission = pd.DataFrame({'Id': test_ids, 'SalePrice': predictions.squeeze()})"
   ]
  },
  {
   "cell_type": "code",
   "execution_count": 21,
   "id": "92109241",
   "metadata": {
    "execution": {
     "iopub.execute_input": "2024-10-30T21:30:01.336610Z",
     "iopub.status.busy": "2024-10-30T21:30:01.336133Z",
     "iopub.status.idle": "2024-10-30T21:30:01.350402Z",
     "shell.execute_reply": "2024-10-30T21:30:01.348685Z"
    },
    "papermill": {
     "duration": 0.030682,
     "end_time": "2024-10-30T21:30:01.353162",
     "exception": false,
     "start_time": "2024-10-30T21:30:01.322480",
     "status": "completed"
    },
    "tags": []
   },
   "outputs": [],
   "source": [
    "submission.to_csv('/kaggle/working/submission.csv', index=False)"
   ]
  }
 ],
 "metadata": {
  "kaggle": {
   "accelerator": "none",
   "dataSources": [
    {
     "databundleVersionId": 868283,
     "sourceId": 5407,
     "sourceType": "competition"
    }
   ],
   "dockerImageVersionId": 30786,
   "isGpuEnabled": false,
   "isInternetEnabled": true,
   "language": "python",
   "sourceType": "notebook"
  },
  "kernelspec": {
   "display_name": "Python 3",
   "language": "python",
   "name": "python3"
  },
  "language_info": {
   "codemirror_mode": {
    "name": "ipython",
    "version": 3
   },
   "file_extension": ".py",
   "mimetype": "text/x-python",
   "name": "python",
   "nbconvert_exporter": "python",
   "pygments_lexer": "ipython3",
   "version": "3.10.14"
  },
  "papermill": {
   "default_parameters": {},
   "duration": 43.522122,
   "end_time": "2024-10-30T21:30:03.903279",
   "environment_variables": {},
   "exception": null,
   "input_path": "__notebook__.ipynb",
   "output_path": "__notebook__.ipynb",
   "parameters": {},
   "start_time": "2024-10-30T21:29:20.381157",
   "version": "2.6.0"
  }
 },
 "nbformat": 4,
 "nbformat_minor": 5
}
