{
 "cells": [
  {
   "cell_type": "code",
   "execution_count": 1,
   "id": "93b9e6f5",
   "metadata": {
    "_cell_guid": "b1076dfc-b9ad-4769-8c92-a6c4dae69d19",
    "_uuid": "8f2839f25d086af736a60e9eeb907d3b93b6e0e5",
    "execution": {
     "iopub.execute_input": "2024-10-30T19:34:26.025695Z",
     "iopub.status.busy": "2024-10-30T19:34:26.025153Z",
     "iopub.status.idle": "2024-10-30T19:34:27.125510Z",
     "shell.execute_reply": "2024-10-30T19:34:27.124055Z"
    },
    "papermill": {
     "duration": 1.139487,
     "end_time": "2024-10-30T19:34:27.128373",
     "exception": false,
     "start_time": "2024-10-30T19:34:25.988886",
     "status": "completed"
    },
    "tags": []
   },
   "outputs": [
    {
     "name": "stdout",
     "output_type": "stream",
     "text": [
      "/kaggle/input/titanic/train.csv\n",
      "/kaggle/input/titanic/test.csv\n",
      "/kaggle/input/titanic/gender_submission.csv\n"
     ]
    }
   ],
   "source": [
    "import numpy as np # linear algebra\n",
    "import pandas as pd # data processing, CSV file I/O (e.g. pd.read_csv)\n",
    "\n",
    "import os\n",
    "for dirname, _, filenames in os.walk('/kaggle/input'):\n",
    "    for filename in filenames:\n",
    "        print(os.path.join(dirname, filename))"
   ]
  },
  {
   "cell_type": "markdown",
   "id": "00af24f6",
   "metadata": {
    "papermill": {
     "duration": 0.030203,
     "end_time": "2024-10-30T19:34:27.189854",
     "exception": false,
     "start_time": "2024-10-30T19:34:27.159651",
     "status": "completed"
    },
    "tags": []
   },
   "source": [
    "# Loading Data and Taking a Quick Look:"
   ]
  },
  {
   "cell_type": "code",
   "execution_count": 2,
   "id": "191a34bb",
   "metadata": {
    "execution": {
     "iopub.execute_input": "2024-10-30T19:34:27.253242Z",
     "iopub.status.busy": "2024-10-30T19:34:27.252544Z",
     "iopub.status.idle": "2024-10-30T19:34:27.289426Z",
     "shell.execute_reply": "2024-10-30T19:34:27.287841Z"
    },
    "papermill": {
     "duration": 0.071819,
     "end_time": "2024-10-30T19:34:27.292651",
     "exception": false,
     "start_time": "2024-10-30T19:34:27.220832",
     "status": "completed"
    },
    "tags": []
   },
   "outputs": [],
   "source": [
    "df_train = pd.read_csv('/kaggle/input/titanic/train.csv')\n",
    "df_test = pd.read_csv('/kaggle/input/titanic/test.csv')"
   ]
  },
  {
   "cell_type": "markdown",
   "id": "5f31d491",
   "metadata": {
    "papermill": {
     "duration": 0.02994,
     "end_time": "2024-10-30T19:34:27.354182",
     "exception": false,
     "start_time": "2024-10-30T19:34:27.324242",
     "status": "completed"
    },
    "tags": []
   },
   "source": [
    "**Look at the datasets** to get an idea of what the data looks like:"
   ]
  },
  {
   "cell_type": "markdown",
   "id": "8205820b",
   "metadata": {
    "papermill": {
     "duration": 0.032122,
     "end_time": "2024-10-30T19:34:27.416084",
     "exception": false,
     "start_time": "2024-10-30T19:34:27.383962",
     "status": "completed"
    },
    "tags": []
   },
   "source": [
    "**head()** method returns the top five rows in the dataset.\n",
    "\n",
    "*Each row here represents one passenger.*"
   ]
  },
  {
   "cell_type": "code",
   "execution_count": 3,
   "id": "31118e22",
   "metadata": {
    "execution": {
     "iopub.execute_input": "2024-10-30T19:34:27.478824Z",
     "iopub.status.busy": "2024-10-30T19:34:27.478262Z",
     "iopub.status.idle": "2024-10-30T19:34:27.509878Z",
     "shell.execute_reply": "2024-10-30T19:34:27.508541Z"
    },
    "papermill": {
     "duration": 0.067069,
     "end_time": "2024-10-30T19:34:27.512549",
     "exception": false,
     "start_time": "2024-10-30T19:34:27.445480",
     "status": "completed"
    },
    "tags": []
   },
   "outputs": [
    {
     "data": {
      "text/html": [
       "<div>\n",
       "<style scoped>\n",
       "    .dataframe tbody tr th:only-of-type {\n",
       "        vertical-align: middle;\n",
       "    }\n",
       "\n",
       "    .dataframe tbody tr th {\n",
       "        vertical-align: top;\n",
       "    }\n",
       "\n",
       "    .dataframe thead th {\n",
       "        text-align: right;\n",
       "    }\n",
       "</style>\n",
       "<table border=\"1\" class=\"dataframe\">\n",
       "  <thead>\n",
       "    <tr style=\"text-align: right;\">\n",
       "      <th></th>\n",
       "      <th>PassengerId</th>\n",
       "      <th>Survived</th>\n",
       "      <th>Pclass</th>\n",
       "      <th>Name</th>\n",
       "      <th>Sex</th>\n",
       "      <th>Age</th>\n",
       "      <th>SibSp</th>\n",
       "      <th>Parch</th>\n",
       "      <th>Ticket</th>\n",
       "      <th>Fare</th>\n",
       "      <th>Cabin</th>\n",
       "      <th>Embarked</th>\n",
       "    </tr>\n",
       "  </thead>\n",
       "  <tbody>\n",
       "    <tr>\n",
       "      <th>0</th>\n",
       "      <td>1</td>\n",
       "      <td>0</td>\n",
       "      <td>3</td>\n",
       "      <td>Braund, Mr. Owen Harris</td>\n",
       "      <td>male</td>\n",
       "      <td>22.0</td>\n",
       "      <td>1</td>\n",
       "      <td>0</td>\n",
       "      <td>A/5 21171</td>\n",
       "      <td>7.2500</td>\n",
       "      <td>NaN</td>\n",
       "      <td>S</td>\n",
       "    </tr>\n",
       "    <tr>\n",
       "      <th>1</th>\n",
       "      <td>2</td>\n",
       "      <td>1</td>\n",
       "      <td>1</td>\n",
       "      <td>Cumings, Mrs. John Bradley (Florence Briggs Th...</td>\n",
       "      <td>female</td>\n",
       "      <td>38.0</td>\n",
       "      <td>1</td>\n",
       "      <td>0</td>\n",
       "      <td>PC 17599</td>\n",
       "      <td>71.2833</td>\n",
       "      <td>C85</td>\n",
       "      <td>C</td>\n",
       "    </tr>\n",
       "    <tr>\n",
       "      <th>2</th>\n",
       "      <td>3</td>\n",
       "      <td>1</td>\n",
       "      <td>3</td>\n",
       "      <td>Heikkinen, Miss. Laina</td>\n",
       "      <td>female</td>\n",
       "      <td>26.0</td>\n",
       "      <td>0</td>\n",
       "      <td>0</td>\n",
       "      <td>STON/O2. 3101282</td>\n",
       "      <td>7.9250</td>\n",
       "      <td>NaN</td>\n",
       "      <td>S</td>\n",
       "    </tr>\n",
       "    <tr>\n",
       "      <th>3</th>\n",
       "      <td>4</td>\n",
       "      <td>1</td>\n",
       "      <td>1</td>\n",
       "      <td>Futrelle, Mrs. Jacques Heath (Lily May Peel)</td>\n",
       "      <td>female</td>\n",
       "      <td>35.0</td>\n",
       "      <td>1</td>\n",
       "      <td>0</td>\n",
       "      <td>113803</td>\n",
       "      <td>53.1000</td>\n",
       "      <td>C123</td>\n",
       "      <td>S</td>\n",
       "    </tr>\n",
       "    <tr>\n",
       "      <th>4</th>\n",
       "      <td>5</td>\n",
       "      <td>0</td>\n",
       "      <td>3</td>\n",
       "      <td>Allen, Mr. William Henry</td>\n",
       "      <td>male</td>\n",
       "      <td>35.0</td>\n",
       "      <td>0</td>\n",
       "      <td>0</td>\n",
       "      <td>373450</td>\n",
       "      <td>8.0500</td>\n",
       "      <td>NaN</td>\n",
       "      <td>S</td>\n",
       "    </tr>\n",
       "  </tbody>\n",
       "</table>\n",
       "</div>"
      ],
      "text/plain": [
       "   PassengerId  Survived  Pclass  \\\n",
       "0            1         0       3   \n",
       "1            2         1       1   \n",
       "2            3         1       3   \n",
       "3            4         1       1   \n",
       "4            5         0       3   \n",
       "\n",
       "                                                Name     Sex   Age  SibSp  \\\n",
       "0                            Braund, Mr. Owen Harris    male  22.0      1   \n",
       "1  Cumings, Mrs. John Bradley (Florence Briggs Th...  female  38.0      1   \n",
       "2                             Heikkinen, Miss. Laina  female  26.0      0   \n",
       "3       Futrelle, Mrs. Jacques Heath (Lily May Peel)  female  35.0      1   \n",
       "4                           Allen, Mr. William Henry    male  35.0      0   \n",
       "\n",
       "   Parch            Ticket     Fare Cabin Embarked  \n",
       "0      0         A/5 21171   7.2500   NaN        S  \n",
       "1      0          PC 17599  71.2833   C85        C  \n",
       "2      0  STON/O2. 3101282   7.9250   NaN        S  \n",
       "3      0            113803  53.1000  C123        S  \n",
       "4      0            373450   8.0500   NaN        S  "
      ]
     },
     "execution_count": 3,
     "metadata": {},
     "output_type": "execute_result"
    }
   ],
   "source": [
    "df_train.head()"
   ]
  },
  {
   "cell_type": "code",
   "execution_count": 4,
   "id": "9db8c845",
   "metadata": {
    "execution": {
     "iopub.execute_input": "2024-10-30T19:34:27.575338Z",
     "iopub.status.busy": "2024-10-30T19:34:27.574771Z",
     "iopub.status.idle": "2024-10-30T19:34:27.595011Z",
     "shell.execute_reply": "2024-10-30T19:34:27.593756Z"
    },
    "papermill": {
     "duration": 0.054515,
     "end_time": "2024-10-30T19:34:27.597695",
     "exception": false,
     "start_time": "2024-10-30T19:34:27.543180",
     "status": "completed"
    },
    "tags": []
   },
   "outputs": [
    {
     "data": {
      "text/html": [
       "<div>\n",
       "<style scoped>\n",
       "    .dataframe tbody tr th:only-of-type {\n",
       "        vertical-align: middle;\n",
       "    }\n",
       "\n",
       "    .dataframe tbody tr th {\n",
       "        vertical-align: top;\n",
       "    }\n",
       "\n",
       "    .dataframe thead th {\n",
       "        text-align: right;\n",
       "    }\n",
       "</style>\n",
       "<table border=\"1\" class=\"dataframe\">\n",
       "  <thead>\n",
       "    <tr style=\"text-align: right;\">\n",
       "      <th></th>\n",
       "      <th>PassengerId</th>\n",
       "      <th>Pclass</th>\n",
       "      <th>Name</th>\n",
       "      <th>Sex</th>\n",
       "      <th>Age</th>\n",
       "      <th>SibSp</th>\n",
       "      <th>Parch</th>\n",
       "      <th>Ticket</th>\n",
       "      <th>Fare</th>\n",
       "      <th>Cabin</th>\n",
       "      <th>Embarked</th>\n",
       "    </tr>\n",
       "  </thead>\n",
       "  <tbody>\n",
       "    <tr>\n",
       "      <th>0</th>\n",
       "      <td>892</td>\n",
       "      <td>3</td>\n",
       "      <td>Kelly, Mr. James</td>\n",
       "      <td>male</td>\n",
       "      <td>34.5</td>\n",
       "      <td>0</td>\n",
       "      <td>0</td>\n",
       "      <td>330911</td>\n",
       "      <td>7.8292</td>\n",
       "      <td>NaN</td>\n",
       "      <td>Q</td>\n",
       "    </tr>\n",
       "    <tr>\n",
       "      <th>1</th>\n",
       "      <td>893</td>\n",
       "      <td>3</td>\n",
       "      <td>Wilkes, Mrs. James (Ellen Needs)</td>\n",
       "      <td>female</td>\n",
       "      <td>47.0</td>\n",
       "      <td>1</td>\n",
       "      <td>0</td>\n",
       "      <td>363272</td>\n",
       "      <td>7.0000</td>\n",
       "      <td>NaN</td>\n",
       "      <td>S</td>\n",
       "    </tr>\n",
       "    <tr>\n",
       "      <th>2</th>\n",
       "      <td>894</td>\n",
       "      <td>2</td>\n",
       "      <td>Myles, Mr. Thomas Francis</td>\n",
       "      <td>male</td>\n",
       "      <td>62.0</td>\n",
       "      <td>0</td>\n",
       "      <td>0</td>\n",
       "      <td>240276</td>\n",
       "      <td>9.6875</td>\n",
       "      <td>NaN</td>\n",
       "      <td>Q</td>\n",
       "    </tr>\n",
       "    <tr>\n",
       "      <th>3</th>\n",
       "      <td>895</td>\n",
       "      <td>3</td>\n",
       "      <td>Wirz, Mr. Albert</td>\n",
       "      <td>male</td>\n",
       "      <td>27.0</td>\n",
       "      <td>0</td>\n",
       "      <td>0</td>\n",
       "      <td>315154</td>\n",
       "      <td>8.6625</td>\n",
       "      <td>NaN</td>\n",
       "      <td>S</td>\n",
       "    </tr>\n",
       "    <tr>\n",
       "      <th>4</th>\n",
       "      <td>896</td>\n",
       "      <td>3</td>\n",
       "      <td>Hirvonen, Mrs. Alexander (Helga E Lindqvist)</td>\n",
       "      <td>female</td>\n",
       "      <td>22.0</td>\n",
       "      <td>1</td>\n",
       "      <td>1</td>\n",
       "      <td>3101298</td>\n",
       "      <td>12.2875</td>\n",
       "      <td>NaN</td>\n",
       "      <td>S</td>\n",
       "    </tr>\n",
       "  </tbody>\n",
       "</table>\n",
       "</div>"
      ],
      "text/plain": [
       "   PassengerId  Pclass                                          Name     Sex  \\\n",
       "0          892       3                              Kelly, Mr. James    male   \n",
       "1          893       3              Wilkes, Mrs. James (Ellen Needs)  female   \n",
       "2          894       2                     Myles, Mr. Thomas Francis    male   \n",
       "3          895       3                              Wirz, Mr. Albert    male   \n",
       "4          896       3  Hirvonen, Mrs. Alexander (Helga E Lindqvist)  female   \n",
       "\n",
       "    Age  SibSp  Parch   Ticket     Fare Cabin Embarked  \n",
       "0  34.5      0      0   330911   7.8292   NaN        Q  \n",
       "1  47.0      1      0   363272   7.0000   NaN        S  \n",
       "2  62.0      0      0   240276   9.6875   NaN        Q  \n",
       "3  27.0      0      0   315154   8.6625   NaN        S  \n",
       "4  22.0      1      1  3101298  12.2875   NaN        S  "
      ]
     },
     "execution_count": 4,
     "metadata": {},
     "output_type": "execute_result"
    }
   ],
   "source": [
    "df_test.head()"
   ]
  },
  {
   "cell_type": "markdown",
   "id": "3af726b5",
   "metadata": {
    "papermill": {
     "duration": 0.029632,
     "end_time": "2024-10-30T19:34:27.657866",
     "exception": false,
     "start_time": "2024-10-30T19:34:27.628234",
     "status": "completed"
    },
    "tags": []
   },
   "source": [
    "There are 10 columns (attributes) in the training dataset:\n",
    "* **PassengerId**: Unique ID for each passenger.\n",
    "* **Survived**: 0 = No, 1 = Yes.\n",
    "* **Pclass**: Ticket class (1, 2, or 3).\n",
    "* **Name**: Name of the passenger.\n",
    "* **Sex**: Gender of the passenger.\n",
    "* **Age**: Age in years.\n",
    "* **SibSp**: Number of siblings/spouses aboard.\n",
    "* **Parch**: Number of parents/children aboard.\n",
    "* **Fare**: Ticket fare.\n",
    "* **Embarked**: Port of Embarkation (C = Cherbourg; Q = Queenstown; S = Southampton)"
   ]
  },
  {
   "cell_type": "markdown",
   "id": "4e08ea0b",
   "metadata": {
    "papermill": {
     "duration": 0.030178,
     "end_time": "2024-10-30T19:34:27.718184",
     "exception": false,
     "start_time": "2024-10-30T19:34:27.688006",
     "status": "completed"
    },
    "tags": []
   },
   "source": [
    "**info()** method returns the total number of rows, and each attribute's type and number of non-null values."
   ]
  },
  {
   "cell_type": "code",
   "execution_count": 5,
   "id": "9b7f4737",
   "metadata": {
    "execution": {
     "iopub.execute_input": "2024-10-30T19:34:27.781421Z",
     "iopub.status.busy": "2024-10-30T19:34:27.780864Z",
     "iopub.status.idle": "2024-10-30T19:34:27.812065Z",
     "shell.execute_reply": "2024-10-30T19:34:27.810770Z"
    },
    "papermill": {
     "duration": 0.067012,
     "end_time": "2024-10-30T19:34:27.815214",
     "exception": false,
     "start_time": "2024-10-30T19:34:27.748202",
     "status": "completed"
    },
    "tags": []
   },
   "outputs": [
    {
     "name": "stdout",
     "output_type": "stream",
     "text": [
      "<class 'pandas.core.frame.DataFrame'>\n",
      "RangeIndex: 891 entries, 0 to 890\n",
      "Data columns (total 12 columns):\n",
      " #   Column       Non-Null Count  Dtype  \n",
      "---  ------       --------------  -----  \n",
      " 0   PassengerId  891 non-null    int64  \n",
      " 1   Survived     891 non-null    int64  \n",
      " 2   Pclass       891 non-null    int64  \n",
      " 3   Name         891 non-null    object \n",
      " 4   Sex          891 non-null    object \n",
      " 5   Age          714 non-null    float64\n",
      " 6   SibSp        891 non-null    int64  \n",
      " 7   Parch        891 non-null    int64  \n",
      " 8   Ticket       891 non-null    object \n",
      " 9   Fare         891 non-null    float64\n",
      " 10  Cabin        204 non-null    object \n",
      " 11  Embarked     889 non-null    object \n",
      "dtypes: float64(2), int64(5), object(5)\n",
      "memory usage: 83.7+ KB\n"
     ]
    }
   ],
   "source": [
    "df_train.info()"
   ]
  },
  {
   "cell_type": "markdown",
   "id": "32721c93",
   "metadata": {
    "papermill": {
     "duration": 0.031375,
     "end_time": "2024-10-30T19:34:27.877470",
     "exception": false,
     "start_time": "2024-10-30T19:34:27.846095",
     "status": "completed"
    },
    "tags": []
   },
   "source": [
    "*There are 891 entries in the dataset which means it is very small by Machine Learning standards.*\n",
    "\n",
    "*Notice that Age has only 714 non-null values, meaning that 177 passengers are missing this feature.*"
   ]
  },
  {
   "cell_type": "markdown",
   "id": "dd5df897",
   "metadata": {
    "papermill": {
     "duration": 0.030862,
     "end_time": "2024-10-30T19:34:27.940863",
     "exception": false,
     "start_time": "2024-10-30T19:34:27.910001",
     "status": "completed"
    },
    "tags": []
   },
   "source": [
    "**describe()** method returns a summary of the numerical attributes."
   ]
  },
  {
   "cell_type": "code",
   "execution_count": 6,
   "id": "3151a0d3",
   "metadata": {
    "execution": {
     "iopub.execute_input": "2024-10-30T19:34:28.008278Z",
     "iopub.status.busy": "2024-10-30T19:34:28.007802Z",
     "iopub.status.idle": "2024-10-30T19:34:28.047628Z",
     "shell.execute_reply": "2024-10-30T19:34:28.046210Z"
    },
    "papermill": {
     "duration": 0.07516,
     "end_time": "2024-10-30T19:34:28.050160",
     "exception": false,
     "start_time": "2024-10-30T19:34:27.975000",
     "status": "completed"
    },
    "tags": []
   },
   "outputs": [
    {
     "data": {
      "text/html": [
       "<div>\n",
       "<style scoped>\n",
       "    .dataframe tbody tr th:only-of-type {\n",
       "        vertical-align: middle;\n",
       "    }\n",
       "\n",
       "    .dataframe tbody tr th {\n",
       "        vertical-align: top;\n",
       "    }\n",
       "\n",
       "    .dataframe thead th {\n",
       "        text-align: right;\n",
       "    }\n",
       "</style>\n",
       "<table border=\"1\" class=\"dataframe\">\n",
       "  <thead>\n",
       "    <tr style=\"text-align: right;\">\n",
       "      <th></th>\n",
       "      <th>PassengerId</th>\n",
       "      <th>Survived</th>\n",
       "      <th>Pclass</th>\n",
       "      <th>Age</th>\n",
       "      <th>SibSp</th>\n",
       "      <th>Parch</th>\n",
       "      <th>Fare</th>\n",
       "    </tr>\n",
       "  </thead>\n",
       "  <tbody>\n",
       "    <tr>\n",
       "      <th>count</th>\n",
       "      <td>891.000000</td>\n",
       "      <td>891.000000</td>\n",
       "      <td>891.000000</td>\n",
       "      <td>714.000000</td>\n",
       "      <td>891.000000</td>\n",
       "      <td>891.000000</td>\n",
       "      <td>891.000000</td>\n",
       "    </tr>\n",
       "    <tr>\n",
       "      <th>mean</th>\n",
       "      <td>446.000000</td>\n",
       "      <td>0.383838</td>\n",
       "      <td>2.308642</td>\n",
       "      <td>29.699118</td>\n",
       "      <td>0.523008</td>\n",
       "      <td>0.381594</td>\n",
       "      <td>32.204208</td>\n",
       "    </tr>\n",
       "    <tr>\n",
       "      <th>std</th>\n",
       "      <td>257.353842</td>\n",
       "      <td>0.486592</td>\n",
       "      <td>0.836071</td>\n",
       "      <td>14.526497</td>\n",
       "      <td>1.102743</td>\n",
       "      <td>0.806057</td>\n",
       "      <td>49.693429</td>\n",
       "    </tr>\n",
       "    <tr>\n",
       "      <th>min</th>\n",
       "      <td>1.000000</td>\n",
       "      <td>0.000000</td>\n",
       "      <td>1.000000</td>\n",
       "      <td>0.420000</td>\n",
       "      <td>0.000000</td>\n",
       "      <td>0.000000</td>\n",
       "      <td>0.000000</td>\n",
       "    </tr>\n",
       "    <tr>\n",
       "      <th>25%</th>\n",
       "      <td>223.500000</td>\n",
       "      <td>0.000000</td>\n",
       "      <td>2.000000</td>\n",
       "      <td>20.125000</td>\n",
       "      <td>0.000000</td>\n",
       "      <td>0.000000</td>\n",
       "      <td>7.910400</td>\n",
       "    </tr>\n",
       "    <tr>\n",
       "      <th>50%</th>\n",
       "      <td>446.000000</td>\n",
       "      <td>0.000000</td>\n",
       "      <td>3.000000</td>\n",
       "      <td>28.000000</td>\n",
       "      <td>0.000000</td>\n",
       "      <td>0.000000</td>\n",
       "      <td>14.454200</td>\n",
       "    </tr>\n",
       "    <tr>\n",
       "      <th>75%</th>\n",
       "      <td>668.500000</td>\n",
       "      <td>1.000000</td>\n",
       "      <td>3.000000</td>\n",
       "      <td>38.000000</td>\n",
       "      <td>1.000000</td>\n",
       "      <td>0.000000</td>\n",
       "      <td>31.000000</td>\n",
       "    </tr>\n",
       "    <tr>\n",
       "      <th>max</th>\n",
       "      <td>891.000000</td>\n",
       "      <td>1.000000</td>\n",
       "      <td>3.000000</td>\n",
       "      <td>80.000000</td>\n",
       "      <td>8.000000</td>\n",
       "      <td>6.000000</td>\n",
       "      <td>512.329200</td>\n",
       "    </tr>\n",
       "  </tbody>\n",
       "</table>\n",
       "</div>"
      ],
      "text/plain": [
       "       PassengerId    Survived      Pclass         Age       SibSp  \\\n",
       "count   891.000000  891.000000  891.000000  714.000000  891.000000   \n",
       "mean    446.000000    0.383838    2.308642   29.699118    0.523008   \n",
       "std     257.353842    0.486592    0.836071   14.526497    1.102743   \n",
       "min       1.000000    0.000000    1.000000    0.420000    0.000000   \n",
       "25%     223.500000    0.000000    2.000000   20.125000    0.000000   \n",
       "50%     446.000000    0.000000    3.000000   28.000000    0.000000   \n",
       "75%     668.500000    1.000000    3.000000   38.000000    1.000000   \n",
       "max     891.000000    1.000000    3.000000   80.000000    8.000000   \n",
       "\n",
       "            Parch        Fare  \n",
       "count  891.000000  891.000000  \n",
       "mean     0.381594   32.204208  \n",
       "std      0.806057   49.693429  \n",
       "min      0.000000    0.000000  \n",
       "25%      0.000000    7.910400  \n",
       "50%      0.000000   14.454200  \n",
       "75%      0.000000   31.000000  \n",
       "max      6.000000  512.329200  "
      ]
     },
     "execution_count": 6,
     "metadata": {},
     "output_type": "execute_result"
    }
   ],
   "source": [
    "df_train.describe()"
   ]
  },
  {
   "cell_type": "markdown",
   "id": "b1584d63",
   "metadata": {
    "papermill": {
     "duration": 0.032126,
     "end_time": "2024-10-30T19:34:28.113611",
     "exception": false,
     "start_time": "2024-10-30T19:34:28.081485",
     "status": "completed"
    },
    "tags": []
   },
   "source": [
    "*The count, mean, min, and max rows are self-explanatory.*\n",
    "\n",
    "*Note that the null values are ignored (so, for example, count of Age is 714, not 891).*\n",
    "\n",
    "*The std row shows the standard deviation (which measures how dispersed the values are).*\n",
    "\n",
    "*The 25%, 50%, and 75% rows show the corresponding percentiles: a percentile indicates the value below which a given percentage of observations in a group of observations falls.*\n",
    "\n",
    "*For example, 25% of the passengers have a Fare value of less than ~7, while 50% of less than ~14 and 75% of less than ~31. These are often called the 25th percentile (or 1st quartile), the median, and the 75th percentile (or 3rd quartile).*"
   ]
  },
  {
   "cell_type": "markdown",
   "id": "6ec8c00d",
   "metadata": {
    "papermill": {
     "duration": 0.03042,
     "end_time": "2024-10-30T19:34:28.176242",
     "exception": false,
     "start_time": "2024-10-30T19:34:28.145822",
     "status": "completed"
    },
    "tags": []
   },
   "source": [
    "# Data Exploration and Preprocessing:"
   ]
  },
  {
   "cell_type": "markdown",
   "id": "53500a44",
   "metadata": {
    "papermill": {
     "duration": 0.033156,
     "end_time": "2024-10-30T19:34:28.240627",
     "exception": false,
     "start_time": "2024-10-30T19:34:28.207471",
     "status": "completed"
    },
    "tags": []
   },
   "source": [
    "**Store** 'PassengerId':"
   ]
  },
  {
   "cell_type": "code",
   "execution_count": 7,
   "id": "e66f77be",
   "metadata": {
    "execution": {
     "iopub.execute_input": "2024-10-30T19:34:28.306282Z",
     "iopub.status.busy": "2024-10-30T19:34:28.305760Z",
     "iopub.status.idle": "2024-10-30T19:34:28.312352Z",
     "shell.execute_reply": "2024-10-30T19:34:28.310892Z"
    },
    "papermill": {
     "duration": 0.043667,
     "end_time": "2024-10-30T19:34:28.315514",
     "exception": false,
     "start_time": "2024-10-30T19:34:28.271847",
     "status": "completed"
    },
    "tags": []
   },
   "outputs": [],
   "source": [
    "PassengerId = df_test['PassengerId']"
   ]
  },
  {
   "cell_type": "markdown",
   "id": "bcd13b46",
   "metadata": {
    "papermill": {
     "duration": 0.031519,
     "end_time": "2024-10-30T19:34:28.378789",
     "exception": false,
     "start_time": "2024-10-30T19:34:28.347270",
     "status": "completed"
    },
    "tags": []
   },
   "source": [
    "**Drop** 'PassengerId' **column** as it is not necessary for the model:"
   ]
  },
  {
   "cell_type": "code",
   "execution_count": 8,
   "id": "32c58af6",
   "metadata": {
    "execution": {
     "iopub.execute_input": "2024-10-30T19:34:28.445723Z",
     "iopub.status.busy": "2024-10-30T19:34:28.444157Z",
     "iopub.status.idle": "2024-10-30T19:34:28.456415Z",
     "shell.execute_reply": "2024-10-30T19:34:28.455180Z"
    },
    "papermill": {
     "duration": 0.048518,
     "end_time": "2024-10-30T19:34:28.458935",
     "exception": false,
     "start_time": "2024-10-30T19:34:28.410417",
     "status": "completed"
    },
    "tags": []
   },
   "outputs": [],
   "source": [
    "df_train = df_train.drop('PassengerId', axis=1)\n",
    "df_test = df_test.drop('PassengerId', axis=1)"
   ]
  },
  {
   "cell_type": "markdown",
   "id": "52346a75",
   "metadata": {
    "papermill": {
     "duration": 0.032677,
     "end_time": "2024-10-30T19:34:28.522451",
     "exception": false,
     "start_time": "2024-10-30T19:34:28.489774",
     "status": "completed"
    },
    "tags": []
   },
   "source": [
    "***Why axis=1?***\n",
    " \n",
    "*When axis is set to 1 it denotes that the action is performed in column(s).*"
   ]
  },
  {
   "cell_type": "markdown",
   "id": "44011d4b",
   "metadata": {
    "papermill": {
     "duration": 0.032185,
     "end_time": "2024-10-30T19:34:28.588808",
     "exception": false,
     "start_time": "2024-10-30T19:34:28.556623",
     "status": "completed"
    },
    "tags": []
   },
   "source": [
    "Check the **percentage of missing values** in each category of the dataset:"
   ]
  },
  {
   "cell_type": "code",
   "execution_count": 9,
   "id": "2adce562",
   "metadata": {
    "execution": {
     "iopub.execute_input": "2024-10-30T19:34:28.713713Z",
     "iopub.status.busy": "2024-10-30T19:34:28.713152Z",
     "iopub.status.idle": "2024-10-30T19:34:28.726783Z",
     "shell.execute_reply": "2024-10-30T19:34:28.725570Z"
    },
    "papermill": {
     "duration": 0.109561,
     "end_time": "2024-10-30T19:34:28.729513",
     "exception": false,
     "start_time": "2024-10-30T19:34:28.619952",
     "status": "completed"
    },
    "tags": []
   },
   "outputs": [
    {
     "data": {
      "text/plain": [
       "Cabin       77.10\n",
       "Age         19.87\n",
       "Embarked     0.22\n",
       "Survived     0.00\n",
       "Pclass       0.00\n",
       "Name         0.00\n",
       "Sex          0.00\n",
       "SibSp        0.00\n",
       "Parch        0.00\n",
       "Ticket       0.00\n",
       "Fare         0.00\n",
       "dtype: float64"
      ]
     },
     "execution_count": 9,
     "metadata": {},
     "output_type": "execute_result"
    }
   ],
   "source": [
    "round(df_train.isnull().sum() / len(df_train) * 100, 2).sort_values(ascending=False)"
   ]
  },
  {
   "cell_type": "code",
   "execution_count": 10,
   "id": "b1565bae",
   "metadata": {
    "execution": {
     "iopub.execute_input": "2024-10-30T19:34:28.795263Z",
     "iopub.status.busy": "2024-10-30T19:34:28.794720Z",
     "iopub.status.idle": "2024-10-30T19:34:28.807943Z",
     "shell.execute_reply": "2024-10-30T19:34:28.806815Z"
    },
    "papermill": {
     "duration": 0.049777,
     "end_time": "2024-10-30T19:34:28.810578",
     "exception": false,
     "start_time": "2024-10-30T19:34:28.760801",
     "status": "completed"
    },
    "tags": []
   },
   "outputs": [
    {
     "data": {
      "text/plain": [
       "Cabin       78.23\n",
       "Age         20.57\n",
       "Fare         0.24\n",
       "Pclass       0.00\n",
       "Name         0.00\n",
       "Sex          0.00\n",
       "SibSp        0.00\n",
       "Parch        0.00\n",
       "Ticket       0.00\n",
       "Embarked     0.00\n",
       "dtype: float64"
      ]
     },
     "execution_count": 10,
     "metadata": {},
     "output_type": "execute_result"
    }
   ],
   "source": [
    "round(df_test.isnull().sum() / len(df_test) * 100, 2).sort_values(ascending=False)"
   ]
  },
  {
   "cell_type": "markdown",
   "id": "5ae52f54",
   "metadata": {
    "papermill": {
     "duration": 0.030974,
     "end_time": "2024-10-30T19:34:28.874809",
     "exception": false,
     "start_time": "2024-10-30T19:34:28.843835",
     "status": "completed"
    },
    "tags": []
   },
   "source": [
    "**Most Machine Learning algorithms cannot work with missing features!**\n",
    "\n",
    "There are three options:\n",
    "* **Get rid of the corresponding passengers.**\n",
    "* **Get rid of the whole attribute.**\n",
    "* **Set the values to some value** (zero, the mean, the median, etc.)"
   ]
  },
  {
   "cell_type": "markdown",
   "id": "4ee64ff6",
   "metadata": {
    "papermill": {
     "duration": 0.0311,
     "end_time": "2024-10-30T19:34:28.938615",
     "exception": false,
     "start_time": "2024-10-30T19:34:28.907515",
     "status": "completed"
    },
    "tags": []
   },
   "source": [
    "**dropna()** method gets rid of the corresponding passengers.\n",
    "\n",
    "**drop()** method gets rid of the whole attribute. "
   ]
  },
  {
   "cell_type": "markdown",
   "id": "37d8bd19",
   "metadata": {
    "papermill": {
     "duration": 0.033981,
     "end_time": "2024-10-30T19:34:29.006349",
     "exception": false,
     "start_time": "2024-10-30T19:34:28.972368",
     "status": "completed"
    },
    "tags": []
   },
   "source": [
    "**Fill missing Age values** with the **median** age:"
   ]
  },
  {
   "cell_type": "code",
   "execution_count": 11,
   "id": "c2092438",
   "metadata": {
    "execution": {
     "iopub.execute_input": "2024-10-30T19:34:29.072011Z",
     "iopub.status.busy": "2024-10-30T19:34:29.071466Z",
     "iopub.status.idle": "2024-10-30T19:34:29.083338Z",
     "shell.execute_reply": "2024-10-30T19:34:29.081817Z"
    },
    "papermill": {
     "duration": 0.047962,
     "end_time": "2024-10-30T19:34:29.086089",
     "exception": false,
     "start_time": "2024-10-30T19:34:29.038127",
     "status": "completed"
    },
    "tags": []
   },
   "outputs": [
    {
     "name": "stderr",
     "output_type": "stream",
     "text": [
      "/tmp/ipykernel_17/1634261788.py:1: FutureWarning: A value is trying to be set on a copy of a DataFrame or Series through chained assignment using an inplace method.\n",
      "The behavior will change in pandas 3.0. This inplace method will never work because the intermediate object on which we are setting values always behaves as a copy.\n",
      "\n",
      "For example, when doing 'df[col].method(value, inplace=True)', try using 'df.method({col: value}, inplace=True)' or df[col] = df[col].method(value) instead, to perform the operation inplace on the original object.\n",
      "\n",
      "\n",
      "  df_train['Age'].fillna(df_train['Age'].median(), inplace=True)\n",
      "/tmp/ipykernel_17/1634261788.py:2: FutureWarning: A value is trying to be set on a copy of a DataFrame or Series through chained assignment using an inplace method.\n",
      "The behavior will change in pandas 3.0. This inplace method will never work because the intermediate object on which we are setting values always behaves as a copy.\n",
      "\n",
      "For example, when doing 'df[col].method(value, inplace=True)', try using 'df.method({col: value}, inplace=True)' or df[col] = df[col].method(value) instead, to perform the operation inplace on the original object.\n",
      "\n",
      "\n",
      "  df_test['Age'].fillna(df_test['Age'].median(), inplace=True)\n"
     ]
    }
   ],
   "source": [
    "df_train['Age'].fillna(df_train['Age'].median(), inplace=True)\n",
    "df_test['Age'].fillna(df_test['Age'].median(), inplace=True)"
   ]
  },
  {
   "cell_type": "markdown",
   "id": "18059413",
   "metadata": {
    "papermill": {
     "duration": 0.031432,
     "end_time": "2024-10-30T19:34:29.150083",
     "exception": false,
     "start_time": "2024-10-30T19:34:29.118651",
     "status": "completed"
    },
    "tags": []
   },
   "source": [
    "***Why inplace=True?***\n",
    "\n",
    "*The data is changed inplace and the action returns nothing. Inplace=False returns a copy of the object*"
   ]
  },
  {
   "cell_type": "markdown",
   "id": "da50cccc",
   "metadata": {
    "papermill": {
     "duration": 0.032344,
     "end_time": "2024-10-30T19:34:29.213474",
     "exception": false,
     "start_time": "2024-10-30T19:34:29.181130",
     "status": "completed"
    },
    "tags": []
   },
   "source": [
    "**Fill missing Embarked values** with the **mode**:"
   ]
  },
  {
   "cell_type": "code",
   "execution_count": 12,
   "id": "35bcb3fa",
   "metadata": {
    "execution": {
     "iopub.execute_input": "2024-10-30T19:34:29.278619Z",
     "iopub.status.busy": "2024-10-30T19:34:29.278080Z",
     "iopub.status.idle": "2024-10-30T19:34:29.288363Z",
     "shell.execute_reply": "2024-10-30T19:34:29.286580Z"
    },
    "papermill": {
     "duration": 0.046417,
     "end_time": "2024-10-30T19:34:29.291384",
     "exception": false,
     "start_time": "2024-10-30T19:34:29.244967",
     "status": "completed"
    },
    "tags": []
   },
   "outputs": [
    {
     "name": "stderr",
     "output_type": "stream",
     "text": [
      "/tmp/ipykernel_17/3833210086.py:1: FutureWarning: A value is trying to be set on a copy of a DataFrame or Series through chained assignment using an inplace method.\n",
      "The behavior will change in pandas 3.0. This inplace method will never work because the intermediate object on which we are setting values always behaves as a copy.\n",
      "\n",
      "For example, when doing 'df[col].method(value, inplace=True)', try using 'df.method({col: value}, inplace=True)' or df[col] = df[col].method(value) instead, to perform the operation inplace on the original object.\n",
      "\n",
      "\n",
      "  df_train['Embarked'].fillna(df_train['Embarked'].mode()[0], inplace=True)\n"
     ]
    }
   ],
   "source": [
    "df_train['Embarked'].fillna(df_train['Embarked'].mode()[0], inplace=True)"
   ]
  },
  {
   "cell_type": "markdown",
   "id": "e090a612",
   "metadata": {
    "papermill": {
     "duration": 0.033249,
     "end_time": "2024-10-30T19:34:29.358005",
     "exception": false,
     "start_time": "2024-10-30T19:34:29.324756",
     "status": "completed"
    },
    "tags": []
   },
   "source": [
    "**Fill missing Fare values** with the **mean**:"
   ]
  },
  {
   "cell_type": "code",
   "execution_count": 13,
   "id": "550f2ef0",
   "metadata": {
    "execution": {
     "iopub.execute_input": "2024-10-30T19:34:29.424884Z",
     "iopub.status.busy": "2024-10-30T19:34:29.424436Z",
     "iopub.status.idle": "2024-10-30T19:34:29.432236Z",
     "shell.execute_reply": "2024-10-30T19:34:29.430959Z"
    },
    "papermill": {
     "duration": 0.045102,
     "end_time": "2024-10-30T19:34:29.435200",
     "exception": false,
     "start_time": "2024-10-30T19:34:29.390098",
     "status": "completed"
    },
    "tags": []
   },
   "outputs": [
    {
     "name": "stderr",
     "output_type": "stream",
     "text": [
      "/tmp/ipykernel_17/1576205081.py:1: FutureWarning: A value is trying to be set on a copy of a DataFrame or Series through chained assignment using an inplace method.\n",
      "The behavior will change in pandas 3.0. This inplace method will never work because the intermediate object on which we are setting values always behaves as a copy.\n",
      "\n",
      "For example, when doing 'df[col].method(value, inplace=True)', try using 'df.method({col: value}, inplace=True)' or df[col] = df[col].method(value) instead, to perform the operation inplace on the original object.\n",
      "\n",
      "\n",
      "  df_test['Fare'].fillna(df_test['Fare'].mean(), inplace=True)\n"
     ]
    }
   ],
   "source": [
    "df_test['Fare'].fillna(df_test['Fare'].mean(), inplace=True)"
   ]
  },
  {
   "cell_type": "markdown",
   "id": "40a6415c",
   "metadata": {
    "papermill": {
     "duration": 0.032112,
     "end_time": "2024-10-30T19:34:29.499574",
     "exception": false,
     "start_time": "2024-10-30T19:34:29.467462",
     "status": "completed"
    },
    "tags": []
   },
   "source": [
    "With **so many missing values (more than 50%)** in the 'Cabin' column, trying to fill in this data would likely introduce noise or unreliable information into your analysis. We prefer to drop it:"
   ]
  },
  {
   "cell_type": "code",
   "execution_count": 14,
   "id": "7ae5b103",
   "metadata": {
    "execution": {
     "iopub.execute_input": "2024-10-30T19:34:29.564979Z",
     "iopub.status.busy": "2024-10-30T19:34:29.564133Z",
     "iopub.status.idle": "2024-10-30T19:34:29.569828Z",
     "shell.execute_reply": "2024-10-30T19:34:29.568426Z"
    },
    "papermill": {
     "duration": 0.041278,
     "end_time": "2024-10-30T19:34:29.572608",
     "exception": false,
     "start_time": "2024-10-30T19:34:29.531330",
     "status": "completed"
    },
    "tags": []
   },
   "outputs": [],
   "source": [
    "#df_train.drop(columns=['Cabin'], inplace=True)"
   ]
  },
  {
   "cell_type": "markdown",
   "id": "1d8b8d66",
   "metadata": {
    "papermill": {
     "duration": 0.033019,
     "end_time": "2024-10-30T19:34:29.638887",
     "exception": false,
     "start_time": "2024-10-30T19:34:29.605868",
     "status": "completed"
    },
    "tags": []
   },
   "source": [
    "**Why we don't use it?** 'Cabin' might be important (having or not having a cabin, or the cabin category might influence survival chances)."
   ]
  },
  {
   "cell_type": "markdown",
   "id": "ae8fdb50",
   "metadata": {
    "papermill": {
     "duration": 0.031924,
     "end_time": "2024-10-30T19:34:29.702881",
     "exception": false,
     "start_time": "2024-10-30T19:34:29.670957",
     "status": "completed"
    },
    "tags": []
   },
   "source": [
    "# Exploratory Data Analysis (EDA):"
   ]
  },
  {
   "cell_type": "markdown",
   "id": "c2289c2f",
   "metadata": {
    "papermill": {
     "duration": 0.031933,
     "end_time": "2024-10-30T19:34:29.766920",
     "exception": false,
     "start_time": "2024-10-30T19:34:29.734987",
     "status": "completed"
    },
    "tags": []
   },
   "source": [
    "**hist()** method returns a histogram plot for each numerical attribute."
   ]
  },
  {
   "cell_type": "code",
   "execution_count": 15,
   "id": "38ae611f",
   "metadata": {
    "execution": {
     "iopub.execute_input": "2024-10-30T19:34:29.834727Z",
     "iopub.status.busy": "2024-10-30T19:34:29.834272Z",
     "iopub.status.idle": "2024-10-30T19:34:32.071542Z",
     "shell.execute_reply": "2024-10-30T19:34:32.069985Z"
    },
    "papermill": {
     "duration": 2.275945,
     "end_time": "2024-10-30T19:34:32.075109",
     "exception": false,
     "start_time": "2024-10-30T19:34:29.799164",
     "status": "completed"
    },
    "tags": []
   },
   "outputs": [
    {
     "data": {
      "image/png": "[encoded data removed]",
      "text/plain": [
       "<Figure size 2000x1500 with 6 Axes>"
      ]
     },
     "metadata": {},
     "output_type": "display_data"
    }
   ],
   "source": [
    "import matplotlib.pyplot as plt\n",
    "\n",
    "df_train.hist(bins=50, figsize=(20, 15))\n",
    "plt.show()"
   ]
  },
  {
   "cell_type": "markdown",
   "id": "4e788806",
   "metadata": {
    "papermill": {
     "duration": 0.033536,
     "end_time": "2024-10-30T19:34:32.146165",
     "exception": false,
     "start_time": "2024-10-30T19:34:32.112629",
     "status": "completed"
    },
    "tags": []
   },
   "source": [
    "*A histogram is another quick way to get a feel of the type of data we are dealing with.*"
   ]
  },
  {
   "cell_type": "markdown",
   "id": "94bf34a5",
   "metadata": {
    "papermill": {
     "duration": 0.033472,
     "end_time": "2024-10-30T19:34:32.213235",
     "exception": false,
     "start_time": "2024-10-30T19:34:32.179763",
     "status": "completed"
    },
    "tags": []
   },
   "source": [
    "**Plot barplots** for survival based on gender and class:"
   ]
  },
  {
   "cell_type": "markdown",
   "id": "f5096e4e",
   "metadata": {
    "papermill": {
     "duration": 0.035289,
     "end_time": "2024-10-30T19:34:32.281776",
     "exception": false,
     "start_time": "2024-10-30T19:34:32.246487",
     "status": "completed"
    },
    "tags": []
   },
   "source": [
    "**barplot()** method returns a barplot for our dataset."
   ]
  },
  {
   "cell_type": "code",
   "execution_count": 16,
   "id": "51c3c071",
   "metadata": {
    "execution": {
     "iopub.execute_input": "2024-10-30T19:34:32.352166Z",
     "iopub.status.busy": "2024-10-30T19:34:32.351103Z",
     "iopub.status.idle": "2024-10-30T19:34:34.957918Z",
     "shell.execute_reply": "2024-10-30T19:34:34.956566Z"
    },
    "papermill": {
     "duration": 2.644813,
     "end_time": "2024-10-30T19:34:34.961000",
     "exception": false,
     "start_time": "2024-10-30T19:34:32.316187",
     "status": "completed"
    },
    "tags": []
   },
   "outputs": [
    {
     "data": {
      "text/plain": [
       "Text(0.5, 1.0, 'Survival Rates Based on Gender and Class')"
      ]
     },
     "execution_count": 16,
     "metadata": {},
     "output_type": "execute_result"
    },
    {
     "data": {
      "image/png": "[encoded data removed]",
      "text/plain": [
       "<Figure size 640x480 with 1 Axes>"
      ]
     },
     "metadata": {},
     "output_type": "display_data"
    }
   ],
   "source": [
    "import seaborn as sns \n",
    "\n",
    "sns.barplot(x=\"Sex\", y=\"Survived\", hue=\"Pclass\", data=df_train)\n",
    "plt.ylabel(\"Survival Rate\")\n",
    "plt.title(\"Survival Rates Based on Gender and Class\")"
   ]
  },
  {
   "cell_type": "markdown",
   "id": "d38b1c1f",
   "metadata": {
    "papermill": {
     "duration": 0.038156,
     "end_time": "2024-10-30T19:34:35.032863",
     "exception": false,
     "start_time": "2024-10-30T19:34:34.994707",
     "status": "completed"
    },
    "tags": []
   },
   "source": [
    "# Data Exploration and Preprocessing (again):"
   ]
  },
  {
   "cell_type": "markdown",
   "id": "a601a655",
   "metadata": {
    "papermill": {
     "duration": 0.03495,
     "end_time": "2024-10-30T19:34:35.102080",
     "exception": false,
     "start_time": "2024-10-30T19:34:35.067130",
     "status": "completed"
    },
    "tags": []
   },
   "source": [
    "**Most Machine Learning algorithms prefer to work with numbers!**"
   ]
  },
  {
   "cell_type": "markdown",
   "id": "4b393761",
   "metadata": {
    "papermill": {
     "duration": 0.035613,
     "end_time": "2024-10-30T19:34:35.175690",
     "exception": false,
     "start_time": "2024-10-30T19:34:35.140077",
     "status": "completed"
    },
    "tags": []
   },
   "source": [
    "Use **Label Encoding** for 'Age', which converts \"male\" and \"female\" into 0 and 1."
   ]
  },
  {
   "cell_type": "code",
   "execution_count": 17,
   "id": "d4eb743b",
   "metadata": {
    "execution": {
     "iopub.execute_input": "2024-10-30T19:34:35.258619Z",
     "iopub.status.busy": "2024-10-30T19:34:35.257201Z",
     "iopub.status.idle": "2024-10-30T19:34:35.445125Z",
     "shell.execute_reply": "2024-10-30T19:34:35.443832Z"
    },
    "papermill": {
     "duration": 0.230808,
     "end_time": "2024-10-30T19:34:35.448776",
     "exception": false,
     "start_time": "2024-10-30T19:34:35.217968",
     "status": "completed"
    },
    "tags": []
   },
   "outputs": [],
   "source": [
    "from sklearn.preprocessing import LabelEncoder\n",
    "\n",
    "df_train['Sex'] = LabelEncoder().fit_transform(df_train['Sex'])\n",
    "df_test['Sex'] = LabelEncoder().fit_transform(df_test['Sex'])"
   ]
  },
  {
   "cell_type": "markdown",
   "id": "d5f9d01e",
   "metadata": {
    "papermill": {
     "duration": 0.034504,
     "end_time": "2024-10-30T19:34:35.522420",
     "exception": false,
     "start_time": "2024-10-30T19:34:35.487916",
     "status": "completed"
    },
    "tags": []
   },
   "source": [
    "**One-Hot Encoding** for categorical data (dummy variables):"
   ]
  },
  {
   "cell_type": "code",
   "execution_count": 18,
   "id": "ce882fb4",
   "metadata": {
    "execution": {
     "iopub.execute_input": "2024-10-30T19:34:35.595140Z",
     "iopub.status.busy": "2024-10-30T19:34:35.593738Z",
     "iopub.status.idle": "2024-10-30T19:34:35.611925Z",
     "shell.execute_reply": "2024-10-30T19:34:35.610529Z"
    },
    "papermill": {
     "duration": 0.058351,
     "end_time": "2024-10-30T19:34:35.615427",
     "exception": false,
     "start_time": "2024-10-30T19:34:35.557076",
     "status": "completed"
    },
    "tags": []
   },
   "outputs": [],
   "source": [
    "df_train = pd.get_dummies(df_train, columns=['Embarked'], drop_first=True)\n",
    "df_test = pd.get_dummies(df_test, columns=['Embarked'], drop_first=True)"
   ]
  },
  {
   "cell_type": "code",
   "execution_count": 19,
   "id": "79ecdd41",
   "metadata": {
    "execution": {
     "iopub.execute_input": "2024-10-30T19:34:35.689407Z",
     "iopub.status.busy": "2024-10-30T19:34:35.688217Z",
     "iopub.status.idle": "2024-10-30T19:34:35.713004Z",
     "shell.execute_reply": "2024-10-30T19:34:35.711748Z"
    },
    "papermill": {
     "duration": 0.065713,
     "end_time": "2024-10-30T19:34:35.716387",
     "exception": false,
     "start_time": "2024-10-30T19:34:35.650674",
     "status": "completed"
    },
    "tags": []
   },
   "outputs": [
    {
     "data": {
      "text/html": [
       "<div>\n",
       "<style scoped>\n",
       "    .dataframe tbody tr th:only-of-type {\n",
       "        vertical-align: middle;\n",
       "    }\n",
       "\n",
       "    .dataframe tbody tr th {\n",
       "        vertical-align: top;\n",
       "    }\n",
       "\n",
       "    .dataframe thead th {\n",
       "        text-align: right;\n",
       "    }\n",
       "</style>\n",
       "<table border=\"1\" class=\"dataframe\">\n",
       "  <thead>\n",
       "    <tr style=\"text-align: right;\">\n",
       "      <th></th>\n",
       "      <th>Survived</th>\n",
       "      <th>Pclass</th>\n",
       "      <th>Name</th>\n",
       "      <th>Sex</th>\n",
       "      <th>Age</th>\n",
       "      <th>SibSp</th>\n",
       "      <th>Parch</th>\n",
       "      <th>Ticket</th>\n",
       "      <th>Fare</th>\n",
       "      <th>Cabin</th>\n",
       "      <th>Embarked_Q</th>\n",
       "      <th>Embarked_S</th>\n",
       "    </tr>\n",
       "  </thead>\n",
       "  <tbody>\n",
       "    <tr>\n",
       "      <th>0</th>\n",
       "      <td>0</td>\n",
       "      <td>3</td>\n",
       "      <td>Braund, Mr. Owen Harris</td>\n",
       "      <td>1</td>\n",
       "      <td>22.0</td>\n",
       "      <td>1</td>\n",
       "      <td>0</td>\n",
       "      <td>A/5 21171</td>\n",
       "      <td>7.2500</td>\n",
       "      <td>NaN</td>\n",
       "      <td>False</td>\n",
       "      <td>True</td>\n",
       "    </tr>\n",
       "    <tr>\n",
       "      <th>1</th>\n",
       "      <td>1</td>\n",
       "      <td>1</td>\n",
       "      <td>Cumings, Mrs. John Bradley (Florence Briggs Th...</td>\n",
       "      <td>0</td>\n",
       "      <td>38.0</td>\n",
       "      <td>1</td>\n",
       "      <td>0</td>\n",
       "      <td>PC 17599</td>\n",
       "      <td>71.2833</td>\n",
       "      <td>C85</td>\n",
       "      <td>False</td>\n",
       "      <td>False</td>\n",
       "    </tr>\n",
       "    <tr>\n",
       "      <th>2</th>\n",
       "      <td>1</td>\n",
       "      <td>3</td>\n",
       "      <td>Heikkinen, Miss. Laina</td>\n",
       "      <td>0</td>\n",
       "      <td>26.0</td>\n",
       "      <td>0</td>\n",
       "      <td>0</td>\n",
       "      <td>STON/O2. 3101282</td>\n",
       "      <td>7.9250</td>\n",
       "      <td>NaN</td>\n",
       "      <td>False</td>\n",
       "      <td>True</td>\n",
       "    </tr>\n",
       "    <tr>\n",
       "      <th>3</th>\n",
       "      <td>1</td>\n",
       "      <td>1</td>\n",
       "      <td>Futrelle, Mrs. Jacques Heath (Lily May Peel)</td>\n",
       "      <td>0</td>\n",
       "      <td>35.0</td>\n",
       "      <td>1</td>\n",
       "      <td>0</td>\n",
       "      <td>113803</td>\n",
       "      <td>53.1000</td>\n",
       "      <td>C123</td>\n",
       "      <td>False</td>\n",
       "      <td>True</td>\n",
       "    </tr>\n",
       "    <tr>\n",
       "      <th>4</th>\n",
       "      <td>0</td>\n",
       "      <td>3</td>\n",
       "      <td>Allen, Mr. William Henry</td>\n",
       "      <td>1</td>\n",
       "      <td>35.0</td>\n",
       "      <td>0</td>\n",
       "      <td>0</td>\n",
       "      <td>373450</td>\n",
       "      <td>8.0500</td>\n",
       "      <td>NaN</td>\n",
       "      <td>False</td>\n",
       "      <td>True</td>\n",
       "    </tr>\n",
       "  </tbody>\n",
       "</table>\n",
       "</div>"
      ],
      "text/plain": [
       "   Survived  Pclass                                               Name  Sex  \\\n",
       "0         0       3                            Braund, Mr. Owen Harris    1   \n",
       "1         1       1  Cumings, Mrs. John Bradley (Florence Briggs Th...    0   \n",
       "2         1       3                             Heikkinen, Miss. Laina    0   \n",
       "3         1       1       Futrelle, Mrs. Jacques Heath (Lily May Peel)    0   \n",
       "4         0       3                           Allen, Mr. William Henry    1   \n",
       "\n",
       "    Age  SibSp  Parch            Ticket     Fare Cabin  Embarked_Q  Embarked_S  \n",
       "0  22.0      1      0         A/5 21171   7.2500   NaN       False        True  \n",
       "1  38.0      1      0          PC 17599  71.2833   C85       False       False  \n",
       "2  26.0      0      0  STON/O2. 3101282   7.9250   NaN       False        True  \n",
       "3  35.0      1      0            113803  53.1000  C123       False        True  \n",
       "4  35.0      0      0            373450   8.0500   NaN       False        True  "
      ]
     },
     "execution_count": 19,
     "metadata": {},
     "output_type": "execute_result"
    }
   ],
   "source": [
    "df_train.head()"
   ]
  },
  {
   "cell_type": "code",
   "execution_count": 20,
   "id": "386f0ba6",
   "metadata": {
    "execution": {
     "iopub.execute_input": "2024-10-30T19:34:35.792964Z",
     "iopub.status.busy": "2024-10-30T19:34:35.792341Z",
     "iopub.status.idle": "2024-10-30T19:34:35.818030Z",
     "shell.execute_reply": "2024-10-30T19:34:35.816558Z"
    },
    "papermill": {
     "duration": 0.066392,
     "end_time": "2024-10-30T19:34:35.821113",
     "exception": false,
     "start_time": "2024-10-30T19:34:35.754721",
     "status": "completed"
    },
    "tags": []
   },
   "outputs": [
    {
     "data": {
      "text/html": [
       "<div>\n",
       "<style scoped>\n",
       "    .dataframe tbody tr th:only-of-type {\n",
       "        vertical-align: middle;\n",
       "    }\n",
       "\n",
       "    .dataframe tbody tr th {\n",
       "        vertical-align: top;\n",
       "    }\n",
       "\n",
       "    .dataframe thead th {\n",
       "        text-align: right;\n",
       "    }\n",
       "</style>\n",
       "<table border=\"1\" class=\"dataframe\">\n",
       "  <thead>\n",
       "    <tr style=\"text-align: right;\">\n",
       "      <th></th>\n",
       "      <th>Pclass</th>\n",
       "      <th>Name</th>\n",
       "      <th>Sex</th>\n",
       "      <th>Age</th>\n",
       "      <th>SibSp</th>\n",
       "      <th>Parch</th>\n",
       "      <th>Ticket</th>\n",
       "      <th>Fare</th>\n",
       "      <th>Cabin</th>\n",
       "      <th>Embarked_Q</th>\n",
       "      <th>Embarked_S</th>\n",
       "    </tr>\n",
       "  </thead>\n",
       "  <tbody>\n",
       "    <tr>\n",
       "      <th>0</th>\n",
       "      <td>3</td>\n",
       "      <td>Kelly, Mr. James</td>\n",
       "      <td>1</td>\n",
       "      <td>34.5</td>\n",
       "      <td>0</td>\n",
       "      <td>0</td>\n",
       "      <td>330911</td>\n",
       "      <td>7.8292</td>\n",
       "      <td>NaN</td>\n",
       "      <td>True</td>\n",
       "      <td>False</td>\n",
       "    </tr>\n",
       "    <tr>\n",
       "      <th>1</th>\n",
       "      <td>3</td>\n",
       "      <td>Wilkes, Mrs. James (Ellen Needs)</td>\n",
       "      <td>0</td>\n",
       "      <td>47.0</td>\n",
       "      <td>1</td>\n",
       "      <td>0</td>\n",
       "      <td>363272</td>\n",
       "      <td>7.0000</td>\n",
       "      <td>NaN</td>\n",
       "      <td>False</td>\n",
       "      <td>True</td>\n",
       "    </tr>\n",
       "    <tr>\n",
       "      <th>2</th>\n",
       "      <td>2</td>\n",
       "      <td>Myles, Mr. Thomas Francis</td>\n",
       "      <td>1</td>\n",
       "      <td>62.0</td>\n",
       "      <td>0</td>\n",
       "      <td>0</td>\n",
       "      <td>240276</td>\n",
       "      <td>9.6875</td>\n",
       "      <td>NaN</td>\n",
       "      <td>True</td>\n",
       "      <td>False</td>\n",
       "    </tr>\n",
       "    <tr>\n",
       "      <th>3</th>\n",
       "      <td>3</td>\n",
       "      <td>Wirz, Mr. Albert</td>\n",
       "      <td>1</td>\n",
       "      <td>27.0</td>\n",
       "      <td>0</td>\n",
       "      <td>0</td>\n",
       "      <td>315154</td>\n",
       "      <td>8.6625</td>\n",
       "      <td>NaN</td>\n",
       "      <td>False</td>\n",
       "      <td>True</td>\n",
       "    </tr>\n",
       "    <tr>\n",
       "      <th>4</th>\n",
       "      <td>3</td>\n",
       "      <td>Hirvonen, Mrs. Alexander (Helga E Lindqvist)</td>\n",
       "      <td>0</td>\n",
       "      <td>22.0</td>\n",
       "      <td>1</td>\n",
       "      <td>1</td>\n",
       "      <td>3101298</td>\n",
       "      <td>12.2875</td>\n",
       "      <td>NaN</td>\n",
       "      <td>False</td>\n",
       "      <td>True</td>\n",
       "    </tr>\n",
       "  </tbody>\n",
       "</table>\n",
       "</div>"
      ],
      "text/plain": [
       "   Pclass                                          Name  Sex   Age  SibSp  \\\n",
       "0       3                              Kelly, Mr. James    1  34.5      0   \n",
       "1       3              Wilkes, Mrs. James (Ellen Needs)    0  47.0      1   \n",
       "2       2                     Myles, Mr. Thomas Francis    1  62.0      0   \n",
       "3       3                              Wirz, Mr. Albert    1  27.0      0   \n",
       "4       3  Hirvonen, Mrs. Alexander (Helga E Lindqvist)    0  22.0      1   \n",
       "\n",
       "   Parch   Ticket     Fare Cabin  Embarked_Q  Embarked_S  \n",
       "0      0   330911   7.8292   NaN        True       False  \n",
       "1      0   363272   7.0000   NaN       False        True  \n",
       "2      0   240276   9.6875   NaN        True       False  \n",
       "3      0   315154   8.6625   NaN       False        True  \n",
       "4      1  3101298  12.2875   NaN       False        True  "
      ]
     },
     "execution_count": 20,
     "metadata": {},
     "output_type": "execute_result"
    }
   ],
   "source": [
    "df_test.head()"
   ]
  },
  {
   "cell_type": "markdown",
   "id": "d791ed9b",
   "metadata": {
    "papermill": {
     "duration": 0.035211,
     "end_time": "2024-10-30T19:34:35.891929",
     "exception": false,
     "start_time": "2024-10-30T19:34:35.856718",
     "status": "completed"
    },
    "tags": []
   },
   "source": [
    "One-Hot Encoding creates separate binary columns for each category (\"S\", \"C\", \"Q\").\n",
    "* **Embarked_S:** 1 if the passenger embarked at Southampton, 0 otherwise\n",
    "* **Embarked_C:** 1 if the passenger embarked at Cherbourg, 0 otherwise\n",
    "* **Embarked_Q:** 1 if the passenger embarked at Queenstown, 0 otherwise"
   ]
  },
  {
   "cell_type": "markdown",
   "id": "ed694779",
   "metadata": {
    "papermill": {
     "duration": 0.035055,
     "end_time": "2024-10-30T19:34:35.962583",
     "exception": false,
     "start_time": "2024-10-30T19:34:35.927528",
     "status": "completed"
    },
    "tags": []
   },
   "source": [
    "*PS: One-Hot Encoding is better here because it prevents the model from assuming any ordinal relationship between the categories (e.g., S > C > Q).*"
   ]
  },
  {
   "cell_type": "markdown",
   "id": "c8966afc",
   "metadata": {
    "papermill": {
     "duration": 0.037673,
     "end_time": "2024-10-30T19:34:36.035703",
     "exception": false,
     "start_time": "2024-10-30T19:34:35.998030",
     "status": "completed"
    },
    "tags": []
   },
   "source": [
    "# Feature Engineering:"
   ]
  },
  {
   "cell_type": "markdown",
   "id": "04fa2ca1",
   "metadata": {
    "papermill": {
     "duration": 0.036629,
     "end_time": "2024-10-30T19:34:36.108932",
     "exception": false,
     "start_time": "2024-10-30T19:34:36.072303",
     "status": "completed"
    },
    "tags": []
   },
   "source": [
    "**Feature** that shows **whether a passenger had a cabin or not**:"
   ]
  },
  {
   "cell_type": "code",
   "execution_count": 21,
   "id": "2e9864c5",
   "metadata": {
    "execution": {
     "iopub.execute_input": "2024-10-30T19:34:36.184038Z",
     "iopub.status.busy": "2024-10-30T19:34:36.183559Z",
     "iopub.status.idle": "2024-10-30T19:34:36.194828Z",
     "shell.execute_reply": "2024-10-30T19:34:36.193396Z"
    },
    "papermill": {
     "duration": 0.051254,
     "end_time": "2024-10-30T19:34:36.197856",
     "exception": false,
     "start_time": "2024-10-30T19:34:36.146602",
     "status": "completed"
    },
    "tags": []
   },
   "outputs": [],
   "source": [
    "df_train['HasCabin'] = df_train['Cabin'].apply(lambda x: 0 if type(x) == float else 1)\n",
    "df_test['HasCabin'] = df_test['Cabin'].apply(lambda x: 0 if type(x) == float else 1)"
   ]
  },
  {
   "cell_type": "markdown",
   "id": "64e6146d",
   "metadata": {
    "papermill": {
     "duration": 0.034818,
     "end_time": "2024-10-30T19:34:36.271741",
     "exception": false,
     "start_time": "2024-10-30T19:34:36.236923",
     "status": "completed"
    },
    "tags": []
   },
   "source": [
    "**Challenge:** Understand what **.apply(lambda x: )** does and try to implement it with a for loop and if-else check!"
   ]
  },
  {
   "cell_type": "markdown",
   "id": "cd97ce0d",
   "metadata": {
    "papermill": {
     "duration": 0.034998,
     "end_time": "2024-10-30T19:34:36.341985",
     "exception": false,
     "start_time": "2024-10-30T19:34:36.306987",
     "status": "completed"
    },
    "tags": []
   },
   "source": [
    "**Feature** that shows **cabin category:**"
   ]
  },
  {
   "cell_type": "code",
   "execution_count": 22,
   "id": "a63e49bd",
   "metadata": {
    "execution": {
     "iopub.execute_input": "2024-10-30T19:34:36.417304Z",
     "iopub.status.busy": "2024-10-30T19:34:36.416805Z",
     "iopub.status.idle": "2024-10-30T19:34:36.426754Z",
     "shell.execute_reply": "2024-10-30T19:34:36.425361Z"
    },
    "papermill": {
     "duration": 0.051067,
     "end_time": "2024-10-30T19:34:36.429763",
     "exception": false,
     "start_time": "2024-10-30T19:34:36.378696",
     "status": "completed"
    },
    "tags": []
   },
   "outputs": [],
   "source": [
    "df_train['CabinCat'] = df_train.Cabin.apply(lambda x: str(x)[0])\n",
    "df_test['CabinCat'] = df_test.Cabin.apply(lambda x: str(x)[0])"
   ]
  },
  {
   "cell_type": "markdown",
   "id": "cee73f0d",
   "metadata": {
    "papermill": {
     "duration": 0.033979,
     "end_time": "2024-10-30T19:34:36.499768",
     "exception": false,
     "start_time": "2024-10-30T19:34:36.465789",
     "status": "completed"
    },
    "tags": []
   },
   "source": [
    "Compare survival rate by cabin category:"
   ]
  },
  {
   "cell_type": "code",
   "execution_count": 23,
   "id": "45a0d329",
   "metadata": {
    "execution": {
     "iopub.execute_input": "2024-10-30T19:34:36.571824Z",
     "iopub.status.busy": "2024-10-30T19:34:36.571277Z",
     "iopub.status.idle": "2024-10-30T19:34:36.604779Z",
     "shell.execute_reply": "2024-10-30T19:34:36.603478Z"
    },
    "papermill": {
     "duration": 0.073272,
     "end_time": "2024-10-30T19:34:36.607534",
     "exception": false,
     "start_time": "2024-10-30T19:34:36.534262",
     "status": "completed"
    },
    "tags": []
   },
   "outputs": [
    {
     "data": {
      "text/html": [
       "<div>\n",
       "<style scoped>\n",
       "    .dataframe tbody tr th:only-of-type {\n",
       "        vertical-align: middle;\n",
       "    }\n",
       "\n",
       "    .dataframe tbody tr th {\n",
       "        vertical-align: top;\n",
       "    }\n",
       "\n",
       "    .dataframe thead th {\n",
       "        text-align: right;\n",
       "    }\n",
       "</style>\n",
       "<table border=\"1\" class=\"dataframe\">\n",
       "  <thead>\n",
       "    <tr style=\"text-align: right;\">\n",
       "      <th>CabinCat</th>\n",
       "      <th>A</th>\n",
       "      <th>B</th>\n",
       "      <th>C</th>\n",
       "      <th>D</th>\n",
       "      <th>E</th>\n",
       "      <th>F</th>\n",
       "      <th>G</th>\n",
       "      <th>T</th>\n",
       "      <th>n</th>\n",
       "    </tr>\n",
       "    <tr>\n",
       "      <th>Survived</th>\n",
       "      <th></th>\n",
       "      <th></th>\n",
       "      <th></th>\n",
       "      <th></th>\n",
       "      <th></th>\n",
       "      <th></th>\n",
       "      <th></th>\n",
       "      <th></th>\n",
       "      <th></th>\n",
       "    </tr>\n",
       "  </thead>\n",
       "  <tbody>\n",
       "    <tr>\n",
       "      <th>0</th>\n",
       "      <td>8.0</td>\n",
       "      <td>12.0</td>\n",
       "      <td>24.0</td>\n",
       "      <td>8.0</td>\n",
       "      <td>8.0</td>\n",
       "      <td>5.0</td>\n",
       "      <td>2.0</td>\n",
       "      <td>1.0</td>\n",
       "      <td>481.0</td>\n",
       "    </tr>\n",
       "    <tr>\n",
       "      <th>1</th>\n",
       "      <td>7.0</td>\n",
       "      <td>35.0</td>\n",
       "      <td>35.0</td>\n",
       "      <td>25.0</td>\n",
       "      <td>24.0</td>\n",
       "      <td>8.0</td>\n",
       "      <td>2.0</td>\n",
       "      <td>NaN</td>\n",
       "      <td>206.0</td>\n",
       "    </tr>\n",
       "  </tbody>\n",
       "</table>\n",
       "</div>"
      ],
      "text/plain": [
       "CabinCat    A     B     C     D     E    F    G    T      n\n",
       "Survived                                                   \n",
       "0         8.0  12.0  24.0   8.0   8.0  5.0  2.0  1.0  481.0\n",
       "1         7.0  35.0  35.0  25.0  24.0  8.0  2.0  NaN  206.0"
      ]
     },
     "execution_count": 23,
     "metadata": {},
     "output_type": "execute_result"
    }
   ],
   "source": [
    "pd.pivot_table(df_train,index='Survived',columns='CabinCat', values='Name', aggfunc='count')"
   ]
  },
  {
   "cell_type": "markdown",
   "id": "2e8ae4bc",
   "metadata": {
    "papermill": {
     "duration": 0.033795,
     "end_time": "2024-10-30T19:34:36.675737",
     "exception": false,
     "start_time": "2024-10-30T19:34:36.641942",
     "status": "completed"
    },
    "tags": []
   },
   "source": [
    "**Feature** that shows **family size** of passenger:"
   ]
  },
  {
   "cell_type": "code",
   "execution_count": 24,
   "id": "c1c3b1e9",
   "metadata": {
    "execution": {
     "iopub.execute_input": "2024-10-30T19:34:36.746559Z",
     "iopub.status.busy": "2024-10-30T19:34:36.746024Z",
     "iopub.status.idle": "2024-10-30T19:34:36.755191Z",
     "shell.execute_reply": "2024-10-30T19:34:36.753833Z"
    },
    "papermill": {
     "duration": 0.048357,
     "end_time": "2024-10-30T19:34:36.758207",
     "exception": false,
     "start_time": "2024-10-30T19:34:36.709850",
     "status": "completed"
    },
    "tags": []
   },
   "outputs": [],
   "source": [
    "df_train['FamilySize'] = df_train['SibSp'] + df_train['Parch'] + 1\n",
    "df_test['FamilySize'] = df_test['SibSp'] + df_test['Parch'] + 1"
   ]
  },
  {
   "cell_type": "markdown",
   "id": "ccb43976",
   "metadata": {
    "papermill": {
     "duration": 0.035688,
     "end_time": "2024-10-30T19:34:36.829081",
     "exception": false,
     "start_time": "2024-10-30T19:34:36.793393",
     "status": "completed"
    },
    "tags": []
   },
   "source": [
    "**Feature** that shows **if passenger is travelling alone:**"
   ]
  },
  {
   "cell_type": "code",
   "execution_count": 25,
   "id": "be3aa750",
   "metadata": {
    "execution": {
     "iopub.execute_input": "2024-10-30T19:34:36.902500Z",
     "iopub.status.busy": "2024-10-30T19:34:36.901965Z",
     "iopub.status.idle": "2024-10-30T19:34:36.913279Z",
     "shell.execute_reply": "2024-10-30T19:34:36.911583Z"
    },
    "papermill": {
     "duration": 0.051641,
     "end_time": "2024-10-30T19:34:36.916611",
     "exception": false,
     "start_time": "2024-10-30T19:34:36.864970",
     "status": "completed"
    },
    "tags": []
   },
   "outputs": [],
   "source": [
    "df_train['IsAlone'] = df_train.FamilySize.apply(lambda x: 1 if x==1 else 0)\n",
    "df_test['IsAlone'] = df_test.FamilySize.apply(lambda x: 1 if x==1 else 0)"
   ]
  },
  {
   "cell_type": "markdown",
   "id": "bb855237",
   "metadata": {
    "papermill": {
     "duration": 0.03582,
     "end_time": "2024-10-30T19:34:36.987346",
     "exception": false,
     "start_time": "2024-10-30T19:34:36.951526",
     "status": "completed"
    },
    "tags": []
   },
   "source": [
    "**Extract title** from name and make new **feature**:"
   ]
  },
  {
   "cell_type": "code",
   "execution_count": 26,
   "id": "b54c65ae",
   "metadata": {
    "execution": {
     "iopub.execute_input": "2024-10-30T19:34:37.063916Z",
     "iopub.status.busy": "2024-10-30T19:34:37.062662Z",
     "iopub.status.idle": "2024-10-30T19:34:37.079751Z",
     "shell.execute_reply": "2024-10-30T19:34:37.078188Z"
    },
    "papermill": {
     "duration": 0.057498,
     "end_time": "2024-10-30T19:34:37.082848",
     "exception": false,
     "start_time": "2024-10-30T19:34:37.025350",
     "status": "completed"
    },
    "tags": []
   },
   "outputs": [],
   "source": [
    "df_train['Title'] = df_train['Name'].str.split(',').str[1].str.split('.').str[0].str.strip()\n",
    "df_test['Title'] = df_test['Name'].str.split(',').str[1].str.split('.').str[0].str.strip()"
   ]
  },
  {
   "cell_type": "markdown",
   "id": "6d891b1b",
   "metadata": {
    "papermill": {
     "duration": 0.036547,
     "end_time": "2024-10-30T19:34:37.155652",
     "exception": false,
     "start_time": "2024-10-30T19:34:37.119105",
     "status": "completed"
    },
    "tags": []
   },
   "source": [
    "* **.str.split(','):** Splits the name into two parts (e.g., \"Braund\" and \"Mr. Owen Harris\").\n",
    "* **.str[1]:** Selects the part after the comma, which contains the title.\n",
    "* **.str.split('.'):** Splits this part by the period (e.g., \"Mr.\").\n",
    "* **.str[0]:** Selects the first part before the period (e.g., \"Mr\").\n",
    "* **.str.strip():** Removes any leading or trailing spaces."
   ]
  },
  {
   "cell_type": "markdown",
   "id": "000934bb",
   "metadata": {
    "papermill": {
     "duration": 0.035083,
     "end_time": "2024-10-30T19:34:37.226090",
     "exception": false,
     "start_time": "2024-10-30T19:34:37.191007",
     "status": "completed"
    },
    "tags": []
   },
   "source": [
    "**Drop columns** that are no longer needed:"
   ]
  },
  {
   "cell_type": "code",
   "execution_count": 27,
   "id": "ac942066",
   "metadata": {
    "execution": {
     "iopub.execute_input": "2024-10-30T19:34:37.299692Z",
     "iopub.status.busy": "2024-10-30T19:34:37.298522Z",
     "iopub.status.idle": "2024-10-30T19:34:37.307882Z",
     "shell.execute_reply": "2024-10-30T19:34:37.306574Z"
    },
    "papermill": {
     "duration": 0.049299,
     "end_time": "2024-10-30T19:34:37.310755",
     "exception": false,
     "start_time": "2024-10-30T19:34:37.261456",
     "status": "completed"
    },
    "tags": []
   },
   "outputs": [],
   "source": [
    "df_train = df_train.drop(['Cabin','Name', 'Ticket'], axis=1)\n",
    "df_test = df_test.drop(['Cabin','Name', 'Ticket'], axis=1)"
   ]
  },
  {
   "cell_type": "markdown",
   "id": "0fb6f9ff",
   "metadata": {
    "papermill": {
     "duration": 0.035907,
     "end_time": "2024-10-30T19:34:37.382875",
     "exception": false,
     "start_time": "2024-10-30T19:34:37.346968",
     "status": "completed"
    },
    "tags": []
   },
   "source": [
    "PS: 'Ticket' might correlate to 'Pclass' but, at the end of the day, it is just a random number"
   ]
  },
  {
   "cell_type": "markdown",
   "id": "83025555",
   "metadata": {
    "papermill": {
     "duration": 0.034621,
     "end_time": "2024-10-30T19:34:37.454242",
     "exception": false,
     "start_time": "2024-10-30T19:34:37.419621",
     "status": "completed"
    },
    "tags": []
   },
   "source": [
    "**Bining** 'Age':"
   ]
  },
  {
   "cell_type": "markdown",
   "id": "593f1d56",
   "metadata": {
    "papermill": {
     "duration": 0.033968,
     "end_time": "2024-10-30T19:34:37.522497",
     "exception": false,
     "start_time": "2024-10-30T19:34:37.488529",
     "status": "completed"
    },
    "tags": []
   },
   "source": [
    "**cut()** method bins a value in categories (whose labels we choose). \n",
    "\n",
    "Bins are intervals (here: (0, 12], (12, 18], (18, 35], (35, 60], (60, 100])"
   ]
  },
  {
   "cell_type": "code",
   "execution_count": 28,
   "id": "8fed0ccf",
   "metadata": {
    "execution": {
     "iopub.execute_input": "2024-10-30T19:34:37.594048Z",
     "iopub.status.busy": "2024-10-30T19:34:37.593626Z",
     "iopub.status.idle": "2024-10-30T19:34:37.605763Z",
     "shell.execute_reply": "2024-10-30T19:34:37.604455Z"
    },
    "papermill": {
     "duration": 0.051713,
     "end_time": "2024-10-30T19:34:37.608915",
     "exception": false,
     "start_time": "2024-10-30T19:34:37.557202",
     "status": "completed"
    },
    "tags": []
   },
   "outputs": [],
   "source": [
    "df_train['AgeBin'] = pd.cut(df_train['Age'], bins=[0, 12, 18, 35, 60, 100], labels=['Child', 'Teenager', 'Young Adult', 'Adult', 'Senior'])\n",
    "df_test['AgeBin'] = pd.cut(df_test['Age'], bins=[0, 12, 18, 35, 60, 100], labels=['Child', 'Teenager', 'Young Adult', 'Adult', 'Senior'])"
   ]
  },
  {
   "cell_type": "markdown",
   "id": "a5117f25",
   "metadata": {
    "papermill": {
     "duration": 0.034649,
     "end_time": "2024-10-30T19:34:37.679099",
     "exception": false,
     "start_time": "2024-10-30T19:34:37.644450",
     "status": "completed"
    },
    "tags": []
   },
   "source": [
    "**map()** method replaces categorical labels with values we choose (most commonly numerical values)."
   ]
  },
  {
   "cell_type": "code",
   "execution_count": 29,
   "id": "596e66a7",
   "metadata": {
    "execution": {
     "iopub.execute_input": "2024-10-30T19:34:37.752939Z",
     "iopub.status.busy": "2024-10-30T19:34:37.752512Z",
     "iopub.status.idle": "2024-10-30T19:34:37.763806Z",
     "shell.execute_reply": "2024-10-30T19:34:37.762412Z"
    },
    "papermill": {
     "duration": 0.051855,
     "end_time": "2024-10-30T19:34:37.766358",
     "exception": false,
     "start_time": "2024-10-30T19:34:37.714503",
     "status": "completed"
    },
    "tags": []
   },
   "outputs": [],
   "source": [
    "df_train['AgeBin'] = df_train['AgeBin'].map({'Child': 0, 'Teenager': 1, 'Young Adult': 2, 'Adult': 3, 'Senior': 4} ).astype(int)\n",
    "df_test['AgeBin'] = df_test['AgeBin'].map({'Child': 0, 'Teenager': 1, 'Young Adult': 2, 'Adult': 3, 'Senior': 4} ).astype(int)"
   ]
  },
  {
   "cell_type": "markdown",
   "id": "8353d433",
   "metadata": {
    "papermill": {
     "duration": 0.034511,
     "end_time": "2024-10-30T19:34:37.835926",
     "exception": false,
     "start_time": "2024-10-30T19:34:37.801415",
     "status": "completed"
    },
    "tags": []
   },
   "source": [
    "**Mapping** 'Title':"
   ]
  },
  {
   "cell_type": "code",
   "execution_count": 30,
   "id": "0ede38f7",
   "metadata": {
    "execution": {
     "iopub.execute_input": "2024-10-30T19:34:37.908000Z",
     "iopub.status.busy": "2024-10-30T19:34:37.907565Z",
     "iopub.status.idle": "2024-10-30T19:34:37.916571Z",
     "shell.execute_reply": "2024-10-30T19:34:37.915342Z"
    },
    "papermill": {
     "duration": 0.048412,
     "end_time": "2024-10-30T19:34:37.919209",
     "exception": false,
     "start_time": "2024-10-30T19:34:37.870797",
     "status": "completed"
    },
    "tags": []
   },
   "outputs": [
    {
     "data": {
      "text/plain": [
       "array(['Mr', 'Mrs', 'Miss', 'Master', 'Don', 'Rev', 'Dr', 'Mme', 'Ms',\n",
       "       'Major', 'Lady', 'Sir', 'Mlle', 'Col', 'Capt', 'the Countess',\n",
       "       'Jonkheer'], dtype=object)"
      ]
     },
     "execution_count": 30,
     "metadata": {},
     "output_type": "execute_result"
    }
   ],
   "source": [
    "df_train['Title'].unique()"
   ]
  },
  {
   "cell_type": "code",
   "execution_count": 31,
   "id": "174e5f99",
   "metadata": {
    "execution": {
     "iopub.execute_input": "2024-10-30T19:34:37.991815Z",
     "iopub.status.busy": "2024-10-30T19:34:37.991389Z",
     "iopub.status.idle": "2024-10-30T19:34:38.000705Z",
     "shell.execute_reply": "2024-10-30T19:34:37.999385Z"
    },
    "papermill": {
     "duration": 0.049101,
     "end_time": "2024-10-30T19:34:38.003451",
     "exception": false,
     "start_time": "2024-10-30T19:34:37.954350",
     "status": "completed"
    },
    "tags": []
   },
   "outputs": [
    {
     "data": {
      "text/plain": [
       "array(['Mr', 'Mrs', 'Miss', 'Master', 'Ms', 'Col', 'Rev', 'Dr', 'Dona'],\n",
       "      dtype=object)"
      ]
     },
     "execution_count": 31,
     "metadata": {},
     "output_type": "execute_result"
    }
   ],
   "source": [
    "df_test['Title'].unique()"
   ]
  },
  {
   "cell_type": "markdown",
   "id": "8b36af8c",
   "metadata": {
    "papermill": {
     "duration": 0.036145,
     "end_time": "2024-10-30T19:34:38.077711",
     "exception": false,
     "start_time": "2024-10-30T19:34:38.041566",
     "status": "completed"
    },
    "tags": []
   },
   "source": [
    "**replace(x, y)** method replaces item(s) x in the dataframe with item y."
   ]
  },
  {
   "cell_type": "code",
   "execution_count": 32,
   "id": "282847e2",
   "metadata": {
    "execution": {
     "iopub.execute_input": "2024-10-30T19:34:38.154302Z",
     "iopub.status.busy": "2024-10-30T19:34:38.153788Z",
     "iopub.status.idle": "2024-10-30T19:34:38.178476Z",
     "shell.execute_reply": "2024-10-30T19:34:38.177060Z"
    },
    "papermill": {
     "duration": 0.067514,
     "end_time": "2024-10-30T19:34:38.181478",
     "exception": false,
     "start_time": "2024-10-30T19:34:38.113964",
     "status": "completed"
    },
    "tags": []
   },
   "outputs": [],
   "source": [
    "df_train['Title'] = df_train['Title'].replace(['Lady', 'Countess','Capt', 'Col','Don', 'Dr', 'Major', 'Rev', 'Sir', 'Jonkheer', 'Dona'], 'Rare')\n",
    "df_train['Title'] = df_train['Title'].replace('Mlle', 'Miss')\n",
    "df_train['Title'] = df_train['Title'].replace('Ms', 'Miss')\n",
    "df_train['Title'] = df_train['Title'].replace('Mme', 'Mrs')\n",
    "\n",
    "df_train['Title'] = df_train['Title'].map({\"Mr\": 1, \"Miss\": 2, \"Mrs\": 3, \"Master\": 4, \"Rare\": 5})\n",
    "df_train['Title'] = df_train['Title'].fillna(0)\n",
    "\n",
    "df_test['Title'] = df_test['Title'].replace(['Col', 'Rev', 'Dr', 'Dona'], 'Rare')\n",
    "df_test['Title'] = df_test['Title'].replace('Mlle', 'Miss')\n",
    "df_test['Title'] = df_test['Title'].replace('Ms', 'Miss')\n",
    "df_test['Title'] = df_test['Title'].replace('Mme', 'Mrs')\n",
    "\n",
    "df_test['Title'] = df_test['Title'].map({\"Mr\": 1, \"Miss\": 2, \"Mrs\": 3, \"Master\": 4, \"Rare\": 5})\n",
    "df_test['Title'] = df_test['Title'].fillna(0)"
   ]
  },
  {
   "cell_type": "markdown",
   "id": "9c2f08f7",
   "metadata": {
    "papermill": {
     "duration": 0.035326,
     "end_time": "2024-10-30T19:34:38.253603",
     "exception": false,
     "start_time": "2024-10-30T19:34:38.218277",
     "status": "completed"
    },
    "tags": []
   },
   "source": [
    "**Mapping** 'CabinCat':"
   ]
  },
  {
   "cell_type": "code",
   "execution_count": 33,
   "id": "4404eec4",
   "metadata": {
    "execution": {
     "iopub.execute_input": "2024-10-30T19:34:38.326948Z",
     "iopub.status.busy": "2024-10-30T19:34:38.326483Z",
     "iopub.status.idle": "2024-10-30T19:34:38.335980Z",
     "shell.execute_reply": "2024-10-30T19:34:38.334424Z"
    },
    "papermill": {
     "duration": 0.049919,
     "end_time": "2024-10-30T19:34:38.339004",
     "exception": false,
     "start_time": "2024-10-30T19:34:38.289085",
     "status": "completed"
    },
    "tags": []
   },
   "outputs": [
    {
     "data": {
      "text/plain": [
       "array(['n', 'C', 'E', 'G', 'D', 'A', 'B', 'F', 'T'], dtype=object)"
      ]
     },
     "execution_count": 33,
     "metadata": {},
     "output_type": "execute_result"
    }
   ],
   "source": [
    "df_train['CabinCat'].unique()"
   ]
  },
  {
   "cell_type": "code",
   "execution_count": 34,
   "id": "5fd2faf5",
   "metadata": {
    "execution": {
     "iopub.execute_input": "2024-10-30T19:34:38.415064Z",
     "iopub.status.busy": "2024-10-30T19:34:38.414611Z",
     "iopub.status.idle": "2024-10-30T19:34:38.422849Z",
     "shell.execute_reply": "2024-10-30T19:34:38.421723Z"
    },
    "papermill": {
     "duration": 0.050225,
     "end_time": "2024-10-30T19:34:38.425637",
     "exception": false,
     "start_time": "2024-10-30T19:34:38.375412",
     "status": "completed"
    },
    "tags": []
   },
   "outputs": [
    {
     "data": {
      "text/plain": [
       "array(['n', 'B', 'E', 'A', 'C', 'D', 'F', 'G'], dtype=object)"
      ]
     },
     "execution_count": 34,
     "metadata": {},
     "output_type": "execute_result"
    }
   ],
   "source": [
    "df_test['CabinCat'].unique()"
   ]
  },
  {
   "cell_type": "code",
   "execution_count": 35,
   "id": "3ae43ce9",
   "metadata": {
    "execution": {
     "iopub.execute_input": "2024-10-30T19:34:38.501266Z",
     "iopub.status.busy": "2024-10-30T19:34:38.500805Z",
     "iopub.status.idle": "2024-10-30T19:34:38.511446Z",
     "shell.execute_reply": "2024-10-30T19:34:38.510084Z"
    },
    "papermill": {
     "duration": 0.051704,
     "end_time": "2024-10-30T19:34:38.514327",
     "exception": false,
     "start_time": "2024-10-30T19:34:38.462623",
     "status": "completed"
    },
    "tags": []
   },
   "outputs": [],
   "source": [
    "df_train['CabinCat'] = df_train['CabinCat'].map( {'n': 0, 'A': 1, 'B': 2, 'C': 3, 'D': 4, 'E': 5, 'F': 6, 'G': 7, 'T':8} ).astype(int)\n",
    "df_test['CabinCat'] = df_test['CabinCat'].map( {'n': 0, 'A': 1, 'B': 2, 'C': 3, 'D': 4, 'E': 5, 'F': 6, 'G': 7} ).astype(int)"
   ]
  },
  {
   "cell_type": "markdown",
   "id": "99ac16f8",
   "metadata": {
    "papermill": {
     "duration": 0.035855,
     "end_time": "2024-10-30T19:34:38.586305",
     "exception": false,
     "start_time": "2024-10-30T19:34:38.550450",
     "status": "completed"
    },
    "tags": []
   },
   "source": [
    "**Look at the datasets** again:"
   ]
  },
  {
   "cell_type": "code",
   "execution_count": 36,
   "id": "a7923f01",
   "metadata": {
    "execution": {
     "iopub.execute_input": "2024-10-30T19:34:38.660789Z",
     "iopub.status.busy": "2024-10-30T19:34:38.660265Z",
     "iopub.status.idle": "2024-10-30T19:34:38.682681Z",
     "shell.execute_reply": "2024-10-30T19:34:38.681455Z"
    },
    "papermill": {
     "duration": 0.06308,
     "end_time": "2024-10-30T19:34:38.685599",
     "exception": false,
     "start_time": "2024-10-30T19:34:38.622519",
     "status": "completed"
    },
    "tags": []
   },
   "outputs": [
    {
     "data": {
      "text/html": [
       "<div>\n",
       "<style scoped>\n",
       "    .dataframe tbody tr th:only-of-type {\n",
       "        vertical-align: middle;\n",
       "    }\n",
       "\n",
       "    .dataframe tbody tr th {\n",
       "        vertical-align: top;\n",
       "    }\n",
       "\n",
       "    .dataframe thead th {\n",
       "        text-align: right;\n",
       "    }\n",
       "</style>\n",
       "<table border=\"1\" class=\"dataframe\">\n",
       "  <thead>\n",
       "    <tr style=\"text-align: right;\">\n",
       "      <th></th>\n",
       "      <th>Survived</th>\n",
       "      <th>Pclass</th>\n",
       "      <th>Sex</th>\n",
       "      <th>Age</th>\n",
       "      <th>SibSp</th>\n",
       "      <th>Parch</th>\n",
       "      <th>Fare</th>\n",
       "      <th>Embarked_Q</th>\n",
       "      <th>Embarked_S</th>\n",
       "      <th>HasCabin</th>\n",
       "      <th>CabinCat</th>\n",
       "      <th>FamilySize</th>\n",
       "      <th>IsAlone</th>\n",
       "      <th>Title</th>\n",
       "      <th>AgeBin</th>\n",
       "    </tr>\n",
       "  </thead>\n",
       "  <tbody>\n",
       "    <tr>\n",
       "      <th>0</th>\n",
       "      <td>0</td>\n",
       "      <td>3</td>\n",
       "      <td>1</td>\n",
       "      <td>22.0</td>\n",
       "      <td>1</td>\n",
       "      <td>0</td>\n",
       "      <td>7.2500</td>\n",
       "      <td>False</td>\n",
       "      <td>True</td>\n",
       "      <td>0</td>\n",
       "      <td>0</td>\n",
       "      <td>2</td>\n",
       "      <td>0</td>\n",
       "      <td>1.0</td>\n",
       "      <td>2</td>\n",
       "    </tr>\n",
       "    <tr>\n",
       "      <th>1</th>\n",
       "      <td>1</td>\n",
       "      <td>1</td>\n",
       "      <td>0</td>\n",
       "      <td>38.0</td>\n",
       "      <td>1</td>\n",
       "      <td>0</td>\n",
       "      <td>71.2833</td>\n",
       "      <td>False</td>\n",
       "      <td>False</td>\n",
       "      <td>1</td>\n",
       "      <td>3</td>\n",
       "      <td>2</td>\n",
       "      <td>0</td>\n",
       "      <td>3.0</td>\n",
       "      <td>3</td>\n",
       "    </tr>\n",
       "    <tr>\n",
       "      <th>2</th>\n",
       "      <td>1</td>\n",
       "      <td>3</td>\n",
       "      <td>0</td>\n",
       "      <td>26.0</td>\n",
       "      <td>0</td>\n",
       "      <td>0</td>\n",
       "      <td>7.9250</td>\n",
       "      <td>False</td>\n",
       "      <td>True</td>\n",
       "      <td>0</td>\n",
       "      <td>0</td>\n",
       "      <td>1</td>\n",
       "      <td>1</td>\n",
       "      <td>2.0</td>\n",
       "      <td>2</td>\n",
       "    </tr>\n",
       "    <tr>\n",
       "      <th>3</th>\n",
       "      <td>1</td>\n",
       "      <td>1</td>\n",
       "      <td>0</td>\n",
       "      <td>35.0</td>\n",
       "      <td>1</td>\n",
       "      <td>0</td>\n",
       "      <td>53.1000</td>\n",
       "      <td>False</td>\n",
       "      <td>True</td>\n",
       "      <td>1</td>\n",
       "      <td>3</td>\n",
       "      <td>2</td>\n",
       "      <td>0</td>\n",
       "      <td>3.0</td>\n",
       "      <td>2</td>\n",
       "    </tr>\n",
       "    <tr>\n",
       "      <th>4</th>\n",
       "      <td>0</td>\n",
       "      <td>3</td>\n",
       "      <td>1</td>\n",
       "      <td>35.0</td>\n",
       "      <td>0</td>\n",
       "      <td>0</td>\n",
       "      <td>8.0500</td>\n",
       "      <td>False</td>\n",
       "      <td>True</td>\n",
       "      <td>0</td>\n",
       "      <td>0</td>\n",
       "      <td>1</td>\n",
       "      <td>1</td>\n",
       "      <td>1.0</td>\n",
       "      <td>2</td>\n",
       "    </tr>\n",
       "  </tbody>\n",
       "</table>\n",
       "</div>"
      ],
      "text/plain": [
       "   Survived  Pclass  Sex   Age  SibSp  Parch     Fare  Embarked_Q  Embarked_S  \\\n",
       "0         0       3    1  22.0      1      0   7.2500       False        True   \n",
       "1         1       1    0  38.0      1      0  71.2833       False       False   \n",
       "2         1       3    0  26.0      0      0   7.9250       False        True   \n",
       "3         1       1    0  35.0      1      0  53.1000       False        True   \n",
       "4         0       3    1  35.0      0      0   8.0500       False        True   \n",
       "\n",
       "   HasCabin  CabinCat  FamilySize  IsAlone  Title  AgeBin  \n",
       "0         0         0           2        0    1.0       2  \n",
       "1         1         3           2        0    3.0       3  \n",
       "2         0         0           1        1    2.0       2  \n",
       "3         1         3           2        0    3.0       2  \n",
       "4         0         0           1        1    1.0       2  "
      ]
     },
     "execution_count": 36,
     "metadata": {},
     "output_type": "execute_result"
    }
   ],
   "source": [
    "df_train.head()"
   ]
  },
  {
   "cell_type": "code",
   "execution_count": 37,
   "id": "47dbd0fa",
   "metadata": {
    "execution": {
     "iopub.execute_input": "2024-10-30T19:34:38.761215Z",
     "iopub.status.busy": "2024-10-30T19:34:38.760761Z",
     "iopub.status.idle": "2024-10-30T19:34:38.780773Z",
     "shell.execute_reply": "2024-10-30T19:34:38.779482Z"
    },
    "papermill": {
     "duration": 0.061264,
     "end_time": "2024-10-30T19:34:38.783737",
     "exception": false,
     "start_time": "2024-10-30T19:34:38.722473",
     "status": "completed"
    },
    "tags": []
   },
   "outputs": [
    {
     "data": {
      "text/html": [
       "<div>\n",
       "<style scoped>\n",
       "    .dataframe tbody tr th:only-of-type {\n",
       "        vertical-align: middle;\n",
       "    }\n",
       "\n",
       "    .dataframe tbody tr th {\n",
       "        vertical-align: top;\n",
       "    }\n",
       "\n",
       "    .dataframe thead th {\n",
       "        text-align: right;\n",
       "    }\n",
       "</style>\n",
       "<table border=\"1\" class=\"dataframe\">\n",
       "  <thead>\n",
       "    <tr style=\"text-align: right;\">\n",
       "      <th></th>\n",
       "      <th>Pclass</th>\n",
       "      <th>Sex</th>\n",
       "      <th>Age</th>\n",
       "      <th>SibSp</th>\n",
       "      <th>Parch</th>\n",
       "      <th>Fare</th>\n",
       "      <th>Embarked_Q</th>\n",
       "      <th>Embarked_S</th>\n",
       "      <th>HasCabin</th>\n",
       "      <th>CabinCat</th>\n",
       "      <th>FamilySize</th>\n",
       "      <th>IsAlone</th>\n",
       "      <th>Title</th>\n",
       "      <th>AgeBin</th>\n",
       "    </tr>\n",
       "  </thead>\n",
       "  <tbody>\n",
       "    <tr>\n",
       "      <th>0</th>\n",
       "      <td>3</td>\n",
       "      <td>1</td>\n",
       "      <td>34.5</td>\n",
       "      <td>0</td>\n",
       "      <td>0</td>\n",
       "      <td>7.8292</td>\n",
       "      <td>True</td>\n",
       "      <td>False</td>\n",
       "      <td>0</td>\n",
       "      <td>0</td>\n",
       "      <td>1</td>\n",
       "      <td>1</td>\n",
       "      <td>1</td>\n",
       "      <td>2</td>\n",
       "    </tr>\n",
       "    <tr>\n",
       "      <th>1</th>\n",
       "      <td>3</td>\n",
       "      <td>0</td>\n",
       "      <td>47.0</td>\n",
       "      <td>1</td>\n",
       "      <td>0</td>\n",
       "      <td>7.0000</td>\n",
       "      <td>False</td>\n",
       "      <td>True</td>\n",
       "      <td>0</td>\n",
       "      <td>0</td>\n",
       "      <td>2</td>\n",
       "      <td>0</td>\n",
       "      <td>3</td>\n",
       "      <td>3</td>\n",
       "    </tr>\n",
       "    <tr>\n",
       "      <th>2</th>\n",
       "      <td>2</td>\n",
       "      <td>1</td>\n",
       "      <td>62.0</td>\n",
       "      <td>0</td>\n",
       "      <td>0</td>\n",
       "      <td>9.6875</td>\n",
       "      <td>True</td>\n",
       "      <td>False</td>\n",
       "      <td>0</td>\n",
       "      <td>0</td>\n",
       "      <td>1</td>\n",
       "      <td>1</td>\n",
       "      <td>1</td>\n",
       "      <td>4</td>\n",
       "    </tr>\n",
       "    <tr>\n",
       "      <th>3</th>\n",
       "      <td>3</td>\n",
       "      <td>1</td>\n",
       "      <td>27.0</td>\n",
       "      <td>0</td>\n",
       "      <td>0</td>\n",
       "      <td>8.6625</td>\n",
       "      <td>False</td>\n",
       "      <td>True</td>\n",
       "      <td>0</td>\n",
       "      <td>0</td>\n",
       "      <td>1</td>\n",
       "      <td>1</td>\n",
       "      <td>1</td>\n",
       "      <td>2</td>\n",
       "    </tr>\n",
       "    <tr>\n",
       "      <th>4</th>\n",
       "      <td>3</td>\n",
       "      <td>0</td>\n",
       "      <td>22.0</td>\n",
       "      <td>1</td>\n",
       "      <td>1</td>\n",
       "      <td>12.2875</td>\n",
       "      <td>False</td>\n",
       "      <td>True</td>\n",
       "      <td>0</td>\n",
       "      <td>0</td>\n",
       "      <td>3</td>\n",
       "      <td>0</td>\n",
       "      <td>3</td>\n",
       "      <td>2</td>\n",
       "    </tr>\n",
       "  </tbody>\n",
       "</table>\n",
       "</div>"
      ],
      "text/plain": [
       "   Pclass  Sex   Age  SibSp  Parch     Fare  Embarked_Q  Embarked_S  HasCabin  \\\n",
       "0       3    1  34.5      0      0   7.8292        True       False         0   \n",
       "1       3    0  47.0      1      0   7.0000       False        True         0   \n",
       "2       2    1  62.0      0      0   9.6875        True       False         0   \n",
       "3       3    1  27.0      0      0   8.6625       False        True         0   \n",
       "4       3    0  22.0      1      1  12.2875       False        True         0   \n",
       "\n",
       "   CabinCat  FamilySize  IsAlone  Title  AgeBin  \n",
       "0         0           1        1      1       2  \n",
       "1         0           2        0      3       3  \n",
       "2         0           1        1      1       4  \n",
       "3         0           1        1      1       2  \n",
       "4         0           3        0      3       2  "
      ]
     },
     "execution_count": 37,
     "metadata": {},
     "output_type": "execute_result"
    }
   ],
   "source": [
    "df_test.head()"
   ]
  },
  {
   "cell_type": "markdown",
   "id": "c7558f7c",
   "metadata": {
    "papermill": {
     "duration": 0.036573,
     "end_time": "2024-10-30T19:34:38.857074",
     "exception": false,
     "start_time": "2024-10-30T19:34:38.820501",
     "status": "completed"
    },
    "tags": []
   },
   "source": [
    "Find **correlation matrix** (again):"
   ]
  },
  {
   "cell_type": "code",
   "execution_count": 38,
   "id": "52f30c1c",
   "metadata": {
    "execution": {
     "iopub.execute_input": "2024-10-30T19:34:38.933222Z",
     "iopub.status.busy": "2024-10-30T19:34:38.932750Z",
     "iopub.status.idle": "2024-10-30T19:34:40.140487Z",
     "shell.execute_reply": "2024-10-30T19:34:40.139035Z"
    },
    "papermill": {
     "duration": 1.251241,
     "end_time": "2024-10-30T19:34:40.145172",
     "exception": false,
     "start_time": "2024-10-30T19:34:38.893931",
     "status": "completed"
    },
    "tags": []
   },
   "outputs": [
    {
     "data": {
      "image/png": "[encoded data removed]",
      "text/plain": [
       "<Figure size 1200x800 with 2 Axes>"
      ]
     },
     "metadata": {},
     "output_type": "display_data"
    }
   ],
   "source": [
    "corr_matrix = df_train.select_dtypes(include=['float64', 'int64', 'bool']).corr()\n",
    "plt.figure(figsize=(12, 8))\n",
    "sns.heatmap(corr_matrix, annot=True, cmap='coolwarm')\n",
    "plt.show()"
   ]
  },
  {
   "cell_type": "markdown",
   "id": "517e8601",
   "metadata": {
    "papermill": {
     "duration": 0.042473,
     "end_time": "2024-10-30T19:34:40.229996",
     "exception": false,
     "start_time": "2024-10-30T19:34:40.187523",
     "status": "completed"
    },
    "tags": []
   },
   "source": [
    "**Drop** 'Embarked_Q' and 'FamilySize' **columns** due to their weak relation with 'Survived':"
   ]
  },
  {
   "cell_type": "code",
   "execution_count": 39,
   "id": "91fc70f8",
   "metadata": {
    "execution": {
     "iopub.execute_input": "2024-10-30T19:34:40.314724Z",
     "iopub.status.busy": "2024-10-30T19:34:40.314244Z",
     "iopub.status.idle": "2024-10-30T19:34:40.323401Z",
     "shell.execute_reply": "2024-10-30T19:34:40.322143Z"
    },
    "papermill": {
     "duration": 0.054256,
     "end_time": "2024-10-30T19:34:40.325924",
     "exception": false,
     "start_time": "2024-10-30T19:34:40.271668",
     "status": "completed"
    },
    "tags": []
   },
   "outputs": [],
   "source": [
    "df_train = df_train.drop(['Embarked_Q', 'FamilySize'], axis=1)\n",
    "df_test = df_test.drop(['Embarked_Q', 'FamilySize'], axis=1)"
   ]
  },
  {
   "cell_type": "markdown",
   "id": "623ec0c1",
   "metadata": {
    "papermill": {
     "duration": 0.040477,
     "end_time": "2024-10-30T19:34:40.407394",
     "exception": false,
     "start_time": "2024-10-30T19:34:40.366917",
     "status": "completed"
    },
    "tags": []
   },
   "source": [
    "# Spliting the Data:"
   ]
  },
  {
   "cell_type": "markdown",
   "id": "e120535a",
   "metadata": {
    "papermill": {
     "duration": 0.041073,
     "end_time": "2024-10-30T19:34:40.488691",
     "exception": false,
     "start_time": "2024-10-30T19:34:40.447618",
     "status": "completed"
    },
    "tags": []
   },
   "source": [
    "**Spliting** the date into **features (X)** and **target variable (y)**:"
   ]
  },
  {
   "cell_type": "code",
   "execution_count": 40,
   "id": "04af5b1f",
   "metadata": {
    "execution": {
     "iopub.execute_input": "2024-10-30T19:34:40.570341Z",
     "iopub.status.busy": "2024-10-30T19:34:40.569764Z",
     "iopub.status.idle": "2024-10-30T19:34:40.579079Z",
     "shell.execute_reply": "2024-10-30T19:34:40.577590Z"
    },
    "papermill": {
     "duration": 0.053465,
     "end_time": "2024-10-30T19:34:40.582201",
     "exception": false,
     "start_time": "2024-10-30T19:34:40.528736",
     "status": "completed"
    },
    "tags": []
   },
   "outputs": [],
   "source": [
    "X = df_train.drop(['Survived'], axis=1)\n",
    "y = df_train['Survived']"
   ]
  },
  {
   "cell_type": "markdown",
   "id": "e347361e",
   "metadata": {
    "papermill": {
     "duration": 0.040481,
     "end_time": "2024-10-30T19:34:40.662539",
     "exception": false,
     "start_time": "2024-10-30T19:34:40.622058",
     "status": "completed"
    },
    "tags": []
   },
   "source": [
    "**Spliting** the data into a **training** and a **validation set**:"
   ]
  },
  {
   "cell_type": "code",
   "execution_count": 41,
   "id": "09a82e13",
   "metadata": {
    "execution": {
     "iopub.execute_input": "2024-10-30T19:34:40.749593Z",
     "iopub.status.busy": "2024-10-30T19:34:40.749032Z",
     "iopub.status.idle": "2024-10-30T19:34:40.882534Z",
     "shell.execute_reply": "2024-10-30T19:34:40.880978Z"
    },
    "papermill": {
     "duration": 0.180167,
     "end_time": "2024-10-30T19:34:40.885570",
     "exception": false,
     "start_time": "2024-10-30T19:34:40.705403",
     "status": "completed"
    },
    "tags": []
   },
   "outputs": [],
   "source": [
    "from sklearn.model_selection import train_test_split\n",
    "\n",
    "X_train, X_val, y_train, y_val = train_test_split(X, y, test_size=0.2, random_state=42)"
   ]
  },
  {
   "cell_type": "markdown",
   "id": "9d36da6b",
   "metadata": {
    "papermill": {
     "duration": 0.046362,
     "end_time": "2024-10-30T19:34:40.971341",
     "exception": false,
     "start_time": "2024-10-30T19:34:40.924979",
     "status": "completed"
    },
    "tags": []
   },
   "source": [
    "# Model Tuning for Logistic Regression Model:"
   ]
  },
  {
   "cell_type": "markdown",
   "id": "98ee71a9",
   "metadata": {
    "papermill": {
     "duration": 0.042954,
     "end_time": "2024-10-30T19:34:41.057041",
     "exception": false,
     "start_time": "2024-10-30T19:34:41.014087",
     "status": "completed"
    },
    "tags": []
   },
   "source": [
    "**Most Machine Learning algorithms don't perform well when the input numerical attributes have very different scales!**\n",
    "\n",
    "*Our dataframe is not scaled, i.e. Age ranges from 0 to 80, while the Pclass ranges from 1 to 3.*\n",
    "\n",
    "Note that scaling the target values is generally not required."
   ]
  },
  {
   "cell_type": "markdown",
   "id": "103d57cb",
   "metadata": {
    "papermill": {
     "duration": 0.044587,
     "end_time": "2024-10-30T19:34:41.143406",
     "exception": false,
     "start_time": "2024-10-30T19:34:41.098819",
     "status": "completed"
    },
    "tags": []
   },
   "source": [
    "**Scale data:**"
   ]
  },
  {
   "cell_type": "code",
   "execution_count": 42,
   "id": "ba78b1dd",
   "metadata": {
    "execution": {
     "iopub.execute_input": "2024-10-30T19:34:41.253413Z",
     "iopub.status.busy": "2024-10-30T19:34:41.252108Z",
     "iopub.status.idle": "2024-10-30T19:34:41.276767Z",
     "shell.execute_reply": "2024-10-30T19:34:41.275354Z"
    },
    "papermill": {
     "duration": 0.082797,
     "end_time": "2024-10-30T19:34:41.279910",
     "exception": false,
     "start_time": "2024-10-30T19:34:41.197113",
     "status": "completed"
    },
    "tags": []
   },
   "outputs": [],
   "source": [
    "from sklearn.preprocessing import StandardScaler\n",
    "\n",
    "scaler = StandardScaler()\n",
    "X_train_scaled = scaler.fit_transform(X_train)\n",
    "X_val_scaled = scaler.transform(X_val)\n",
    "X_test_scaled = scaler.fit_transform(df_test)"
   ]
  },
  {
   "cell_type": "markdown",
   "id": "4bd0c210",
   "metadata": {
    "papermill": {
     "duration": 0.040339,
     "end_time": "2024-10-30T19:34:41.361123",
     "exception": false,
     "start_time": "2024-10-30T19:34:41.320784",
     "status": "completed"
    },
    "tags": []
   },
   "source": [
    "**Initialize the model:**"
   ]
  },
  {
   "cell_type": "code",
   "execution_count": 43,
   "id": "f8dc9a3b",
   "metadata": {
    "execution": {
     "iopub.execute_input": "2024-10-30T19:34:41.447390Z",
     "iopub.status.busy": "2024-10-30T19:34:41.446897Z",
     "iopub.status.idle": "2024-10-30T19:34:41.556852Z",
     "shell.execute_reply": "2024-10-30T19:34:41.555572Z"
    },
    "papermill": {
     "duration": 0.157962,
     "end_time": "2024-10-30T19:34:41.559875",
     "exception": false,
     "start_time": "2024-10-30T19:34:41.401913",
     "status": "completed"
    },
    "tags": []
   },
   "outputs": [],
   "source": [
    "from sklearn.linear_model import LogisticRegression\n",
    "\n",
    "lr = LogisticRegression()"
   ]
  },
  {
   "cell_type": "markdown",
   "id": "0717adb0",
   "metadata": {
    "papermill": {
     "duration": 0.040743,
     "end_time": "2024-10-30T19:34:41.641821",
     "exception": false,
     "start_time": "2024-10-30T19:34:41.601078",
     "status": "completed"
    },
    "tags": []
   },
   "source": [
    "Define the **parameter grid** for hyperparameter tuning:"
   ]
  },
  {
   "cell_type": "markdown",
   "id": "70f9ef67",
   "metadata": {
    "papermill": {
     "duration": 0.040331,
     "end_time": "2024-10-30T19:34:41.723266",
     "exception": false,
     "start_time": "2024-10-30T19:34:41.682935",
     "status": "completed"
    },
    "tags": []
   },
   "source": [
    "Here’s what each parameter in the grid means:\n",
    "\n",
    "* **C**: The inverse of regularization strength; *smaller values specify stronger regularization*. Testing values over a range (e.g., [0.01, 0.1, 1, 10, 100]) allows *finding the optimal balance between model complexity and regularization*.\n",
    "\n",
    "* **penalty**: The regularization norm to be applied. Options:\n",
    "\n",
    "    **'l1'**: L1 regularization (lasso), which *encourages sparsity (i.e., reducing some coefficients to zero)*.\n",
    "    \n",
    "    **'l2'**: L2 regularization (ridge), which *penalizes large coefficients, leading to a more generalized model*.\n",
    "    \n",
    "* **solver**: The optimization algorithm used to find the best model parameters. Options:\n",
    "\n",
    "    **'liblinear'**: Suitable *for small datasets*. Works with both l1 and l2 penalties.\n",
    "    \n",
    "    **'saga'**: Suitable *for larger datasets* and also supports both l1 and l2 penalties."
   ]
  },
  {
   "cell_type": "code",
   "execution_count": 44,
   "id": "59ed1dce",
   "metadata": {
    "execution": {
     "iopub.execute_input": "2024-10-30T19:34:41.809253Z",
     "iopub.status.busy": "2024-10-30T19:34:41.808808Z",
     "iopub.status.idle": "2024-10-30T19:34:41.815070Z",
     "shell.execute_reply": "2024-10-30T19:34:41.813631Z"
    },
    "papermill": {
     "duration": 0.053312,
     "end_time": "2024-10-30T19:34:41.817837",
     "exception": false,
     "start_time": "2024-10-30T19:34:41.764525",
     "status": "completed"
    },
    "tags": []
   },
   "outputs": [],
   "source": [
    "param_grid = {\n",
    "    'C': [0.01, 0.1, 1, 10, 100],\n",
    "    'penalty': ['l1', 'l2'],\n",
    "    'solver': ['liblinear', 'saga']\n",
    "}"
   ]
  },
  {
   "cell_type": "markdown",
   "id": "427d43cf",
   "metadata": {
    "papermill": {
     "duration": 0.040593,
     "end_time": "2024-10-30T19:34:41.898467",
     "exception": false,
     "start_time": "2024-10-30T19:34:41.857874",
     "status": "completed"
    },
    "tags": []
   },
   "source": [
    "Perform **grid search** with cross-validation:"
   ]
  },
  {
   "cell_type": "markdown",
   "id": "026b0d06",
   "metadata": {
    "papermill": {
     "duration": 0.041821,
     "end_time": "2024-10-30T19:34:41.981693",
     "exception": false,
     "start_time": "2024-10-30T19:34:41.939872",
     "status": "completed"
    },
    "tags": []
   },
   "source": [
    "Explanation of each parameter:\n",
    "\n",
    "* **estimator=lr**: This *defines the machine learning model you want to optimize*. Here, lr is a logistic regression model (LogisticRegression()). GridSearchCV will use this model as a base estimator and then train it using various combinations of hyperparameters defined in param_grid.\n",
    " \n",
    "* **param_grid=param_grid**: This is a *dictionary specifying the hyperparameters* and the range of values to try for each one as seen above.\n",
    "\n",
    "* **cv=5**: cv stands for cross-validation and specifies the number of folds for the cross-validation process. In *5-fold* cross-validation, the dataset is *split into 5 parts (or “folds”)*, and the model is *trained and validated 5 times*, each time using a different fold as the validation set and the remaining four folds for training. The *results are then averaged over all 5 folds*.\n",
    "\n",
    "* **scoring='accuracy'**: This *specifies the evaluation metric* used to assess model performance. Here, accuracy is used.\n",
    "\n",
    "* **n_jobs=-1**: This *specifies the number of CPU cores to use for the computation*. Setting n_jobs=-1 means that all available cores will be used in parallel, which speeds up the search, especially when the param_grid has many combinations."
   ]
  },
  {
   "cell_type": "code",
   "execution_count": 45,
   "id": "5676eab2",
   "metadata": {
    "execution": {
     "iopub.execute_input": "2024-10-30T19:34:42.069803Z",
     "iopub.status.busy": "2024-10-30T19:34:42.069261Z",
     "iopub.status.idle": "2024-10-30T19:34:42.076958Z",
     "shell.execute_reply": "2024-10-30T19:34:42.075386Z"
    },
    "papermill": {
     "duration": 0.057373,
     "end_time": "2024-10-30T19:34:42.080492",
     "exception": false,
     "start_time": "2024-10-30T19:34:42.023119",
     "status": "completed"
    },
    "tags": []
   },
   "outputs": [],
   "source": [
    "from sklearn.model_selection import GridSearchCV\n",
    "\n",
    "grid_search = GridSearchCV(\n",
    "    estimator=lr, \n",
    "    param_grid=param_grid, \n",
    "    cv=5, \n",
    "    scoring='accuracy', \n",
    "    n_jobs=-1\n",
    ")"
   ]
  },
  {
   "cell_type": "markdown",
   "id": "8a9c9f11",
   "metadata": {
    "papermill": {
     "duration": 0.043101,
     "end_time": "2024-10-30T19:34:42.167267",
     "exception": false,
     "start_time": "2024-10-30T19:34:42.124166",
     "status": "completed"
    },
    "tags": []
   },
   "source": [
    "**Fit** the model:"
   ]
  },
  {
   "cell_type": "code",
   "execution_count": 46,
   "id": "5dc89f21",
   "metadata": {
    "execution": {
     "iopub.execute_input": "2024-10-30T19:34:42.251767Z",
     "iopub.status.busy": "2024-10-30T19:34:42.251278Z",
     "iopub.status.idle": "2024-10-30T19:34:45.105382Z",
     "shell.execute_reply": "2024-10-30T19:34:45.103565Z"
    },
    "papermill": {
     "duration": 2.900323,
     "end_time": "2024-10-30T19:34:45.108642",
     "exception": false,
     "start_time": "2024-10-30T19:34:42.208319",
     "status": "completed"
    },
    "tags": []
   },
   "outputs": [
    {
     "data": {
      "text/html": [
       "<style>#sk-container-id-1 {color: black;background-color: white;}#sk-container-id-1 pre{padding: 0;}#sk-container-id-1 div.sk-toggleable {background-color: white;}#sk-container-id-1 label.sk-toggleable__label {cursor: pointer;display: block;width: 100%;margin-bottom: 0;padding: 0.3em;box-sizing: border-box;text-align: center;}#sk-container-id-1 label.sk-toggleable__label-arrow:before {content: \"▸\";float: left;margin-right: 0.25em;color: #696969;}#sk-container-id-1 label.sk-toggleable__label-arrow:hover:before {color: black;}#sk-container-id-1 div.sk-estimator:hover label.sk-toggleable__label-arrow:before {color: black;}#sk-container-id-1 div.sk-toggleable__content {max-height: 0;max-width: 0;overflow: hidden;text-align: left;background-color: #f0f8ff;}#sk-container-id-1 div.sk-toggleable__content pre {margin: 0.2em;color: black;border-radius: 0.25em;background-color: #f0f8ff;}#sk-container-id-1 input.sk-toggleable__control:checked~div.sk-toggleable__content {max-height: 200px;max-width: 100%;overflow: auto;}#sk-container-id-1 input.sk-toggleable__control:checked~label.sk-toggleable__label-arrow:before {content: \"▾\";}#sk-container-id-1 div.sk-estimator input.sk-toggleable__control:checked~label.sk-toggleable__label {background-color: #d4ebff;}#sk-container-id-1 div.sk-label input.sk-toggleable__control:checked~label.sk-toggleable__label {background-color: #d4ebff;}#sk-container-id-1 input.sk-hidden--visually {border: 0;clip: rect(1px 1px 1px 1px);clip: rect(1px, 1px, 1px, 1px);height: 1px;margin: -1px;overflow: hidden;padding: 0;position: absolute;width: 1px;}#sk-container-id-1 div.sk-estimator {font-family: monospace;background-color: #f0f8ff;border: 1px dotted black;border-radius: 0.25em;box-sizing: border-box;margin-bottom: 0.5em;}#sk-container-id-1 div.sk-estimator:hover {background-color: #d4ebff;}#sk-container-id-1 div.sk-parallel-item::after {content: \"\";width: 100%;border-bottom: 1px solid gray;flex-grow: 1;}#sk-container-id-1 div.sk-label:hover label.sk-toggleable__label {background-color: #d4ebff;}#sk-container-id-1 div.sk-serial::before {content: \"\";position: absolute;border-left: 1px solid gray;box-sizing: border-box;top: 0;bottom: 0;left: 50%;z-index: 0;}#sk-container-id-1 div.sk-serial {display: flex;flex-direction: column;align-items: center;background-color: white;padding-right: 0.2em;padding-left: 0.2em;position: relative;}#sk-container-id-1 div.sk-item {position: relative;z-index: 1;}#sk-container-id-1 div.sk-parallel {display: flex;align-items: stretch;justify-content: center;background-color: white;position: relative;}#sk-container-id-1 div.sk-item::before, #sk-container-id-1 div.sk-parallel-item::before {content: \"\";position: absolute;border-left: 1px solid gray;box-sizing: border-box;top: 0;bottom: 0;left: 50%;z-index: -1;}#sk-container-id-1 div.sk-parallel-item {display: flex;flex-direction: column;z-index: 1;position: relative;background-color: white;}#sk-container-id-1 div.sk-parallel-item:first-child::after {align-self: flex-end;width: 50%;}#sk-container-id-1 div.sk-parallel-item:last-child::after {align-self: flex-start;width: 50%;}#sk-container-id-1 div.sk-parallel-item:only-child::after {width: 0;}#sk-container-id-1 div.sk-dashed-wrapped {border: 1px dashed gray;margin: 0 0.4em 0.5em 0.4em;box-sizing: border-box;padding-bottom: 0.4em;background-color: white;}#sk-container-id-1 div.sk-label label {font-family: monospace;font-weight: bold;display: inline-block;line-height: 1.2em;}#sk-container-id-1 div.sk-label-container {text-align: center;}#sk-container-id-1 div.sk-container {/* jupyter's `normalize.less` sets `[hidden] { display: none; }` but bootstrap.min.css set `[hidden] { display: none !important; }` so we also need the `!important` here to be able to override the default hidden behavior on the sphinx rendered scikit-learn.org. See: https://github.com/scikit-learn/scikit-learn/issues/21755 */display: inline-block !important;position: relative;}#sk-container-id-1 div.sk-text-repr-fallback {display: none;}</style><div id=\"sk-container-id-1\" class=\"sk-top-container\"><div class=\"sk-text-repr-fallback\"><pre>GridSearchCV(cv=5, estimator=LogisticRegression(), n_jobs=-1,\n",
       "             param_grid={&#x27;C&#x27;: [0.01, 0.1, 1, 10, 100], &#x27;penalty&#x27;: [&#x27;l1&#x27;, &#x27;l2&#x27;],\n",
       "                         &#x27;solver&#x27;: [&#x27;liblinear&#x27;, &#x27;saga&#x27;]},\n",
       "             scoring=&#x27;accuracy&#x27;)</pre><b>In a Jupyter environment, please rerun this cell to show the HTML representation or trust the notebook. <br />On GitHub, the HTML representation is unable to render, please try loading this page with nbviewer.org.</b></div><div class=\"sk-container\" hidden><div class=\"sk-item sk-dashed-wrapped\"><div class=\"sk-label-container\"><div class=\"sk-label sk-toggleable\"><input class=\"sk-toggleable__control sk-hidden--visually\" id=\"sk-estimator-id-1\" type=\"checkbox\" ><label for=\"sk-estimator-id-1\" class=\"sk-toggleable__label sk-toggleable__label-arrow\">GridSearchCV</label><div class=\"sk-toggleable__content\"><pre>GridSearchCV(cv=5, estimator=LogisticRegression(), n_jobs=-1,\n",
       "             param_grid={&#x27;C&#x27;: [0.01, 0.1, 1, 10, 100], &#x27;penalty&#x27;: [&#x27;l1&#x27;, &#x27;l2&#x27;],\n",
       "                         &#x27;solver&#x27;: [&#x27;liblinear&#x27;, &#x27;saga&#x27;]},\n",
       "             scoring=&#x27;accuracy&#x27;)</pre></div></div></div><div class=\"sk-parallel\"><div class=\"sk-parallel-item\"><div class=\"sk-item\"><div class=\"sk-label-container\"><div class=\"sk-label sk-toggleable\"><input class=\"sk-toggleable__control sk-hidden--visually\" id=\"sk-estimator-id-2\" type=\"checkbox\" ><label for=\"sk-estimator-id-2\" class=\"sk-toggleable__label sk-toggleable__label-arrow\">estimator: LogisticRegression</label><div class=\"sk-toggleable__content\"><pre>LogisticRegression()</pre></div></div></div><div class=\"sk-serial\"><div class=\"sk-item\"><div class=\"sk-estimator sk-toggleable\"><input class=\"sk-toggleable__control sk-hidden--visually\" id=\"sk-estimator-id-3\" type=\"checkbox\" ><label for=\"sk-estimator-id-3\" class=\"sk-toggleable__label sk-toggleable__label-arrow\">LogisticRegression</label><div class=\"sk-toggleable__content\"><pre>LogisticRegression()</pre></div></div></div></div></div></div></div></div></div></div>"
      ],
      "text/plain": [
       "GridSearchCV(cv=5, estimator=LogisticRegression(), n_jobs=-1,\n",
       "             param_grid={'C': [0.01, 0.1, 1, 10, 100], 'penalty': ['l1', 'l2'],\n",
       "                         'solver': ['liblinear', 'saga']},\n",
       "             scoring='accuracy')"
      ]
     },
     "execution_count": 46,
     "metadata": {},
     "output_type": "execute_result"
    }
   ],
   "source": [
    "grid_search.fit(X_train_scaled, y_train)"
   ]
  },
  {
   "cell_type": "markdown",
   "id": "fdc175ed",
   "metadata": {
    "papermill": {
     "duration": 0.040706,
     "end_time": "2024-10-30T19:34:45.192339",
     "exception": false,
     "start_time": "2024-10-30T19:34:45.151633",
     "status": "completed"
    },
    "tags": []
   },
   "source": [
    "# Evaluate Model:"
   ]
  },
  {
   "cell_type": "markdown",
   "id": "459410cb",
   "metadata": {
    "papermill": {
     "duration": 0.040617,
     "end_time": "2024-10-30T19:34:45.273893",
     "exception": false,
     "start_time": "2024-10-30T19:34:45.233276",
     "status": "completed"
    },
    "tags": []
   },
   "source": [
    "Retrieve the **best model**:"
   ]
  },
  {
   "cell_type": "code",
   "execution_count": 47,
   "id": "c02aa585",
   "metadata": {
    "execution": {
     "iopub.execute_input": "2024-10-30T19:34:45.358344Z",
     "iopub.status.busy": "2024-10-30T19:34:45.357759Z",
     "iopub.status.idle": "2024-10-30T19:34:45.363969Z",
     "shell.execute_reply": "2024-10-30T19:34:45.362814Z"
    },
    "papermill": {
     "duration": 0.0515,
     "end_time": "2024-10-30T19:34:45.366505",
     "exception": false,
     "start_time": "2024-10-30T19:34:45.315005",
     "status": "completed"
    },
    "tags": []
   },
   "outputs": [],
   "source": [
    "best_logreg = grid_search.best_estimator_"
   ]
  },
  {
   "cell_type": "markdown",
   "id": "5263e0e9",
   "metadata": {
    "papermill": {
     "duration": 0.041835,
     "end_time": "2024-10-30T19:34:45.449406",
     "exception": false,
     "start_time": "2024-10-30T19:34:45.407571",
     "status": "completed"
    },
    "tags": []
   },
   "source": [
    "Make **predictions** on the **validation set**:"
   ]
  },
  {
   "cell_type": "code",
   "execution_count": 48,
   "id": "c450ffe5",
   "metadata": {
    "execution": {
     "iopub.execute_input": "2024-10-30T19:34:45.534734Z",
     "iopub.status.busy": "2024-10-30T19:34:45.534198Z",
     "iopub.status.idle": "2024-10-30T19:34:45.541106Z",
     "shell.execute_reply": "2024-10-30T19:34:45.539774Z"
    },
    "papermill": {
     "duration": 0.05336,
     "end_time": "2024-10-30T19:34:45.543622",
     "exception": false,
     "start_time": "2024-10-30T19:34:45.490262",
     "status": "completed"
    },
    "tags": []
   },
   "outputs": [],
   "source": [
    "y_pred = best_logreg.predict(X_val_scaled)"
   ]
  },
  {
   "cell_type": "markdown",
   "id": "35bf3e85",
   "metadata": {
    "papermill": {
     "duration": 0.04036,
     "end_time": "2024-10-30T19:34:45.624975",
     "exception": false,
     "start_time": "2024-10-30T19:34:45.584615",
     "status": "completed"
    },
    "tags": []
   },
   "source": [
    "Evaluate model based on **accuracy:**"
   ]
  },
  {
   "cell_type": "code",
   "execution_count": 49,
   "id": "b273431f",
   "metadata": {
    "execution": {
     "iopub.execute_input": "2024-10-30T19:34:45.707980Z",
     "iopub.status.busy": "2024-10-30T19:34:45.707467Z",
     "iopub.status.idle": "2024-10-30T19:34:45.718622Z",
     "shell.execute_reply": "2024-10-30T19:34:45.716771Z"
    },
    "papermill": {
     "duration": 0.057237,
     "end_time": "2024-10-30T19:34:45.721835",
     "exception": false,
     "start_time": "2024-10-30T19:34:45.664598",
     "status": "completed"
    },
    "tags": []
   },
   "outputs": [
    {
     "name": "stdout",
     "output_type": "stream",
     "text": [
      "0.7877094972067039\n"
     ]
    }
   ],
   "source": [
    "from sklearn.metrics import accuracy_score\n",
    "\n",
    "accuracy = accuracy_score(y_val, y_pred)\n",
    "print(accuracy)"
   ]
  },
  {
   "cell_type": "markdown",
   "id": "487ced20",
   "metadata": {
    "papermill": {
     "duration": 0.041054,
     "end_time": "2024-10-30T19:34:45.804101",
     "exception": false,
     "start_time": "2024-10-30T19:34:45.763047",
     "status": "completed"
    },
    "tags": []
   },
   "source": [
    "# Predictions:"
   ]
  },
  {
   "cell_type": "code",
   "execution_count": 50,
   "id": "e9d2c559",
   "metadata": {
    "execution": {
     "iopub.execute_input": "2024-10-30T19:34:45.889627Z",
     "iopub.status.busy": "2024-10-30T19:34:45.888112Z",
     "iopub.status.idle": "2024-10-30T19:34:45.895398Z",
     "shell.execute_reply": "2024-10-30T19:34:45.894028Z"
    },
    "papermill": {
     "duration": 0.052971,
     "end_time": "2024-10-30T19:34:45.897803",
     "exception": false,
     "start_time": "2024-10-30T19:34:45.844832",
     "status": "completed"
    },
    "tags": []
   },
   "outputs": [],
   "source": [
    "test_predictions = best_logreg.predict(X_test_scaled)"
   ]
  },
  {
   "cell_type": "markdown",
   "id": "5f819bd9",
   "metadata": {
    "papermill": {
     "duration": 0.040964,
     "end_time": "2024-10-30T19:34:45.979809",
     "exception": false,
     "start_time": "2024-10-30T19:34:45.938845",
     "status": "completed"
    },
    "tags": []
   },
   "source": [
    "# Sumbission:"
   ]
  },
  {
   "cell_type": "code",
   "execution_count": 51,
   "id": "f6d42507",
   "metadata": {
    "execution": {
     "iopub.execute_input": "2024-10-30T19:34:46.068671Z",
     "iopub.status.busy": "2024-10-30T19:34:46.068175Z",
     "iopub.status.idle": "2024-10-30T19:34:46.076870Z",
     "shell.execute_reply": "2024-10-30T19:34:46.075347Z"
    },
    "papermill": {
     "duration": 0.05738,
     "end_time": "2024-10-30T19:34:46.080189",
     "exception": false,
     "start_time": "2024-10-30T19:34:46.022809",
     "status": "completed"
    },
    "tags": []
   },
   "outputs": [],
   "source": [
    "submission = pd.DataFrame({'PassengerId': PassengerId,'Survived': test_predictions})"
   ]
  },
  {
   "cell_type": "code",
   "execution_count": 52,
   "id": "fba2ca38",
   "metadata": {
    "execution": {
     "iopub.execute_input": "2024-10-30T19:34:46.164683Z",
     "iopub.status.busy": "2024-10-30T19:34:46.164173Z",
     "iopub.status.idle": "2024-10-30T19:34:46.176102Z",
     "shell.execute_reply": "2024-10-30T19:34:46.174802Z"
    },
    "papermill": {
     "duration": 0.057963,
     "end_time": "2024-10-30T19:34:46.179505",
     "exception": false,
     "start_time": "2024-10-30T19:34:46.121542",
     "status": "completed"
    },
    "tags": []
   },
   "outputs": [],
   "source": [
    "submission.to_csv('titanic_logistic_regression_submission.csv', index=False)"
   ]
  }
 ],
 "metadata": {
  "kaggle": {
   "accelerator": "none",
   "dataSources": [
    {
     "databundleVersionId": 26502,
     "sourceId": 3136,
     "sourceType": "competition"
    }
   ],
   "dockerImageVersionId": 30786,
   "isGpuEnabled": false,
   "isInternetEnabled": true,
   "language": "python",
   "sourceType": "notebook"
  },
  "kernelspec": {
   "display_name": "Python 3",
   "language": "python",
   "name": "python3"
  },
  "language_info": {
   "codemirror_mode": {
    "name": "ipython",
    "version": 3
   },
   "file_extension": ".py",
   "mimetype": "text/x-python",
   "name": "python",
   "nbconvert_exporter": "python",
   "pygments_lexer": "ipython3",
   "version": "3.10.14"
  },
  "papermill": {
   "default_parameters": {},
   "duration": 26.095853,
   "end_time": "2024-10-30T19:34:48.844614",
   "environment_variables": {},
   "exception": null,
   "input_path": "__notebook__.ipynb",
   "output_path": "__notebook__.ipynb",
   "parameters": {},
   "start_time": "2024-10-30T19:34:22.748761",
   "version": "2.6.0"
  }
 },
 "nbformat": 4,
 "nbformat_minor": 5
}
